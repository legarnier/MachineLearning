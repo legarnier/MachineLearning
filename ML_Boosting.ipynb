{
  "cells": [
    {
      "cell_type": "code",
      "execution_count": null,
      "metadata": {
        "id": "rX9XvPLxXqB2"
      },
      "outputs": [],
      "source": [
        "import numpy as np\n",
        "import pandas as pd\n",
        "\n",
        "from sklearn.preprocessing import OneHotEncoder\n",
        "from scipy import sparse\n",
        "from sklearn.model_selection import train_test_split, GridSearchCV\n",
        "from sklearn.metrics import f1_score"
      ]
    },
    {
      "cell_type": "markdown",
      "metadata": {
        "id": "gidiKOQ3aqz6"
      },
      "source": [
        "### 1. Data Description"
      ]
    },
    {
      "cell_type": "code",
      "execution_count": null,
      "metadata": {
        "colab": {
          "base_uri": "https://localhost:8080/"
        },
        "id": "AoHUjIyW8V7f",
        "outputId": "67e316ee-97f4-4a30-b545-0abb2a5e9345"
      },
      "outputs": [
        {
          "name": "stdout",
          "output_type": "stream",
          "text": [
            "Mounted at gdrive\n"
          ]
        }
      ],
      "source": [
        "from google.colab import drive\n",
        "drive.mount('gdrive')\n",
        "PATH = 'gdrive/MyDrive/Kaggle/'\n",
        "# PATH = 'gdrive/MyDrive/Projet Kaggle INF8245E/'"
      ]
    },
    {
      "cell_type": "code",
      "execution_count": null,
      "metadata": {
        "id": "_1ssDViHZESZ"
      },
      "outputs": [],
      "source": [
        "train = pd.read_csv(PATH+'data/train.csv')\n",
        "test = pd.read_csv(PATH+'data/test.csv')\n",
        "sample_submission = pd.read_csv(PATH+'data/sample_submission.csv')"
      ]
    },
    {
      "cell_type": "code",
      "execution_count": null,
      "metadata": {
        "colab": {
          "base_uri": "https://localhost:8080/",
          "height": 468
        },
        "id": "eW44X9rJZKZO",
        "outputId": "cde532af-be43-4f3a-fe32-80654f172a20"
      },
      "outputs": [
        {
          "data": {
            "text/html": [
              "\n",
              "  <div id=\"df-1652f6e0-35a7-4162-8356-07925ff99586\">\n",
              "    <div class=\"colab-df-container\">\n",
              "      <div>\n",
              "<style scoped>\n",
              "    .dataframe tbody tr th:only-of-type {\n",
              "        vertical-align: middle;\n",
              "    }\n",
              "\n",
              "    .dataframe tbody tr th {\n",
              "        vertical-align: top;\n",
              "    }\n",
              "\n",
              "    .dataframe thead th {\n",
              "        text-align: right;\n",
              "    }\n",
              "</style>\n",
              "<table border=\"1\" class=\"dataframe\">\n",
              "  <thead>\n",
              "    <tr style=\"text-align: right;\">\n",
              "      <th></th>\n",
              "      <th>Id</th>\n",
              "      <th>Band Name</th>\n",
              "      <th>Band Genre</th>\n",
              "      <th>Band Country of Origin</th>\n",
              "      <th>Band Debut</th>\n",
              "      <th>Concert ID</th>\n",
              "      <th>Concert Attendance</th>\n",
              "      <th>Inside Venue</th>\n",
              "      <th>Rain</th>\n",
              "      <th>Seated</th>\n",
              "      <th>Personnality Trait 1</th>\n",
              "      <th>Personnality Trait 2</th>\n",
              "      <th>Personnality Trait 3</th>\n",
              "      <th>Personnality Trait 4</th>\n",
              "      <th>Concert Goer Age</th>\n",
              "      <th>Concert Goer ID</th>\n",
              "      <th>Height (cm)</th>\n",
              "      <th>Concert Goer Country of Origin</th>\n",
              "      <th>Concert Enjoyment</th>\n",
              "    </tr>\n",
              "  </thead>\n",
              "  <tbody>\n",
              "    <tr>\n",
              "      <th>0</th>\n",
              "      <td>ConcertExperience_180106</td>\n",
              "      <td>Teenage Crazy Blue Knickers</td>\n",
              "      <td>Indie/Alt Rock</td>\n",
              "      <td>United States of America (USA)</td>\n",
              "      <td>1976.0</td>\n",
              "      <td>900.0</td>\n",
              "      <td>2980.0</td>\n",
              "      <td>False</td>\n",
              "      <td>False</td>\n",
              "      <td>NaN</td>\n",
              "      <td>0.330843</td>\n",
              "      <td>-0.958408</td>\n",
              "      <td>-0.943548</td>\n",
              "      <td>-1.636806</td>\n",
              "      <td>29.0</td>\n",
              "      <td>concert_goer_1985</td>\n",
              "      <td>140.0</td>\n",
              "      <td>Paraguay</td>\n",
              "      <td>Did Not Enjoy</td>\n",
              "    </tr>\n",
              "    <tr>\n",
              "      <th>1</th>\n",
              "      <td>ConcertExperience_146268</td>\n",
              "      <td>Beyond Devon</td>\n",
              "      <td>Pop Music</td>\n",
              "      <td>United States of America (USA)</td>\n",
              "      <td>1968.0</td>\n",
              "      <td>731.0</td>\n",
              "      <td>54.0</td>\n",
              "      <td>True</td>\n",
              "      <td>False</td>\n",
              "      <td>True</td>\n",
              "      <td>-2.069449</td>\n",
              "      <td>0.017777</td>\n",
              "      <td>-1.910675</td>\n",
              "      <td>0.610265</td>\n",
              "      <td>43.0</td>\n",
              "      <td>concert_goer_1874</td>\n",
              "      <td>158.0</td>\n",
              "      <td>United Kingdom (UK)</td>\n",
              "      <td>Enjoyed</td>\n",
              "    </tr>\n",
              "    <tr>\n",
              "      <th>2</th>\n",
              "      <td>ConcertExperience_128743</td>\n",
              "      <td>Ron Talent</td>\n",
              "      <td>Rock n Roll</td>\n",
              "      <td>Canada</td>\n",
              "      <td>1955.0</td>\n",
              "      <td>NaN</td>\n",
              "      <td>162754.0</td>\n",
              "      <td>False</td>\n",
              "      <td>False</td>\n",
              "      <td>True</td>\n",
              "      <td>-0.484268</td>\n",
              "      <td>1.968772</td>\n",
              "      <td>-0.064167</td>\n",
              "      <td>-1.260871</td>\n",
              "      <td>68.0</td>\n",
              "      <td>concert_goer_442</td>\n",
              "      <td>159.0</td>\n",
              "      <td>United States of America (USA)</td>\n",
              "      <td>Did Not Enjoy</td>\n",
              "    </tr>\n",
              "  </tbody>\n",
              "</table>\n",
              "</div>\n",
              "      <button class=\"colab-df-convert\" onclick=\"convertToInteractive('df-1652f6e0-35a7-4162-8356-07925ff99586')\"\n",
              "              title=\"Convert this dataframe to an interactive table.\"\n",
              "              style=\"display:none;\">\n",
              "        \n",
              "  <svg xmlns=\"http://www.w3.org/2000/svg\" height=\"24px\"viewBox=\"0 0 24 24\"\n",
              "       width=\"24px\">\n",
              "    <path d=\"M0 0h24v24H0V0z\" fill=\"none\"/>\n",
              "    <path d=\"M18.56 5.44l.94 2.06.94-2.06 2.06-.94-2.06-.94-.94-2.06-.94 2.06-2.06.94zm-11 1L8.5 8.5l.94-2.06 2.06-.94-2.06-.94L8.5 2.5l-.94 2.06-2.06.94zm10 10l.94 2.06.94-2.06 2.06-.94-2.06-.94-.94-2.06-.94 2.06-2.06.94z\"/><path d=\"M17.41 7.96l-1.37-1.37c-.4-.4-.92-.59-1.43-.59-.52 0-1.04.2-1.43.59L10.3 9.45l-7.72 7.72c-.78.78-.78 2.05 0 2.83L4 21.41c.39.39.9.59 1.41.59.51 0 1.02-.2 1.41-.59l7.78-7.78 2.81-2.81c.8-.78.8-2.07 0-2.86zM5.41 20L4 18.59l7.72-7.72 1.47 1.35L5.41 20z\"/>\n",
              "  </svg>\n",
              "      </button>\n",
              "      \n",
              "  <style>\n",
              "    .colab-df-container {\n",
              "      display:flex;\n",
              "      flex-wrap:wrap;\n",
              "      gap: 12px;\n",
              "    }\n",
              "\n",
              "    .colab-df-convert {\n",
              "      background-color: #E8F0FE;\n",
              "      border: none;\n",
              "      border-radius: 50%;\n",
              "      cursor: pointer;\n",
              "      display: none;\n",
              "      fill: #1967D2;\n",
              "      height: 32px;\n",
              "      padding: 0 0 0 0;\n",
              "      width: 32px;\n",
              "    }\n",
              "\n",
              "    .colab-df-convert:hover {\n",
              "      background-color: #E2EBFA;\n",
              "      box-shadow: 0px 1px 2px rgba(60, 64, 67, 0.3), 0px 1px 3px 1px rgba(60, 64, 67, 0.15);\n",
              "      fill: #174EA6;\n",
              "    }\n",
              "\n",
              "    [theme=dark] .colab-df-convert {\n",
              "      background-color: #3B4455;\n",
              "      fill: #D2E3FC;\n",
              "    }\n",
              "\n",
              "    [theme=dark] .colab-df-convert:hover {\n",
              "      background-color: #434B5C;\n",
              "      box-shadow: 0px 1px 3px 1px rgba(0, 0, 0, 0.15);\n",
              "      filter: drop-shadow(0px 1px 2px rgba(0, 0, 0, 0.3));\n",
              "      fill: #FFFFFF;\n",
              "    }\n",
              "  </style>\n",
              "\n",
              "      <script>\n",
              "        const buttonEl =\n",
              "          document.querySelector('#df-1652f6e0-35a7-4162-8356-07925ff99586 button.colab-df-convert');\n",
              "        buttonEl.style.display =\n",
              "          google.colab.kernel.accessAllowed ? 'block' : 'none';\n",
              "\n",
              "        async function convertToInteractive(key) {\n",
              "          const element = document.querySelector('#df-1652f6e0-35a7-4162-8356-07925ff99586');\n",
              "          const dataTable =\n",
              "            await google.colab.kernel.invokeFunction('convertToInteractive',\n",
              "                                                     [key], {});\n",
              "          if (!dataTable) return;\n",
              "\n",
              "          const docLinkHtml = 'Like what you see? Visit the ' +\n",
              "            '<a target=\"_blank\" href=https://colab.research.google.com/notebooks/data_table.ipynb>data table notebook</a>'\n",
              "            + ' to learn more about interactive tables.';\n",
              "          element.innerHTML = '';\n",
              "          dataTable['output_type'] = 'display_data';\n",
              "          await google.colab.output.renderOutput(dataTable, element);\n",
              "          const docLink = document.createElement('div');\n",
              "          docLink.innerHTML = docLinkHtml;\n",
              "          element.appendChild(docLink);\n",
              "        }\n",
              "      </script>\n",
              "    </div>\n",
              "  </div>\n",
              "  "
            ],
            "text/plain": [
              "                         Id                    Band Name      Band Genre  \\\n",
              "0  ConcertExperience_180106  Teenage Crazy Blue Knickers  Indie/Alt Rock   \n",
              "1  ConcertExperience_146268                 Beyond Devon       Pop Music   \n",
              "2  ConcertExperience_128743                   Ron Talent     Rock n Roll   \n",
              "\n",
              "           Band Country of Origin  Band Debut  Concert ID  Concert Attendance  \\\n",
              "0  United States of America (USA)      1976.0       900.0              2980.0   \n",
              "1  United States of America (USA)      1968.0       731.0                54.0   \n",
              "2                          Canada      1955.0         NaN            162754.0   \n",
              "\n",
              "  Inside Venue   Rain Seated  Personnality Trait 1  Personnality Trait 2  \\\n",
              "0        False  False    NaN              0.330843             -0.958408   \n",
              "1         True  False   True             -2.069449              0.017777   \n",
              "2        False  False   True             -0.484268              1.968772   \n",
              "\n",
              "   Personnality Trait 3  Personnality Trait 4  Concert Goer Age  \\\n",
              "0             -0.943548             -1.636806              29.0   \n",
              "1             -1.910675              0.610265              43.0   \n",
              "2             -0.064167             -1.260871              68.0   \n",
              "\n",
              "     Concert Goer ID  Height (cm)  Concert Goer Country of Origin  \\\n",
              "0  concert_goer_1985        140.0                        Paraguay   \n",
              "1  concert_goer_1874        158.0             United Kingdom (UK)   \n",
              "2   concert_goer_442        159.0  United States of America (USA)   \n",
              "\n",
              "  Concert Enjoyment  \n",
              "0     Did Not Enjoy  \n",
              "1           Enjoyed  \n",
              "2     Did Not Enjoy  "
            ]
          },
          "execution_count": 4,
          "metadata": {},
          "output_type": "execute_result"
        }
      ],
      "source": [
        "train.head(3)"
      ]
    },
    {
      "cell_type": "code",
      "execution_count": null,
      "metadata": {
        "colab": {
          "base_uri": "https://localhost:8080/"
        },
        "id": "tKNsodgCax33",
        "outputId": "fba4b596-a90b-4d81-8e88-1af5f98f63da"
      },
      "outputs": [
        {
          "data": {
            "text/plain": [
              "((170000, 19), (30000, 18))"
            ]
          },
          "execution_count": 5,
          "metadata": {},
          "output_type": "execute_result"
        }
      ],
      "source": [
        "train.shape,test.shape"
      ]
    },
    {
      "cell_type": "code",
      "execution_count": null,
      "metadata": {
        "colab": {
          "base_uri": "https://localhost:8080/"
        },
        "id": "8SOfhtG_bif4",
        "outputId": "dd8b51e5-8880-466d-8ca4-705ac2b0b7e6"
      },
      "outputs": [
        {
          "name": "stdout",
          "output_type": "stream",
          "text": [
            "Proportions of missing data in train dataset : \n",
            "Id                                0.000000\n",
            "Band Name                         0.005053\n",
            "Band Genre                        0.005200\n",
            "Band Country of Origin            0.004647\n",
            "Band Debut                        0.005041\n",
            "Concert ID                        0.005118\n",
            "Concert Attendance                0.005265\n",
            "Inside Venue                      0.004929\n",
            "Rain                              0.005065\n",
            "Seated                            0.004894\n",
            "Personnality Trait 1              0.005012\n",
            "Personnality Trait 2              0.004994\n",
            "Personnality Trait 3              0.005253\n",
            "Personnality Trait 4              0.005088\n",
            "Concert Goer Age                  0.005018\n",
            "Concert Goer ID                   0.004794\n",
            "Height (cm)                       0.004982\n",
            "Concert Goer Country of Origin    0.005053\n",
            "Concert Enjoyment                 0.000000\n",
            "dtype: float64\n",
            "\n",
            "Proportions of missing data in test dataset : \n",
            "Id                                0.000000\n",
            "Band Name                         0.004533\n",
            "Band Genre                        0.004600\n",
            "Band Country of Origin            0.005233\n",
            "Band Debut                        0.005233\n",
            "Concert ID                        0.005267\n",
            "Concert Attendance                0.005067\n",
            "Inside Venue                      0.005533\n",
            "Rain                              0.004767\n",
            "Seated                            0.004733\n",
            "Personnality Trait 1              0.004500\n",
            "Personnality Trait 2              0.005100\n",
            "Personnality Trait 3              0.004967\n",
            "Personnality Trait 4              0.004600\n",
            "Concert Goer Age                  0.004200\n",
            "Concert Goer ID                   0.004833\n",
            "Height (cm)                       0.004667\n",
            "Concert Goer Country of Origin    0.005367\n",
            "dtype: float64\n"
          ]
        }
      ],
      "source": [
        "# Checks the proportion of missing values per category\n",
        "print(\"Proportions of missing data in train dataset : \")\n",
        "print(train.isnull().sum()/train.shape[0])\n",
        "print(\"\\nProportions of missing data in test dataset : \")\n",
        "print(test.isnull().sum()/test.shape[0])"
      ]
    },
    {
      "cell_type": "code",
      "execution_count": null,
      "metadata": {
        "id": "pXBE7K-5f6Dh"
      },
      "outputs": [],
      "source": [
        "# Check Ids are unique\n",
        "assert len(np.unique(train[\"Id\"]))==len(train)\n",
        "assert len(np.unique(test[\"Id\"]))==len(test)"
      ]
    },
    {
      "cell_type": "code",
      "execution_count": null,
      "metadata": {
        "id": "TTvqGHxoeBIx"
      },
      "outputs": [],
      "source": [
        "y_train = train[\"Concert Enjoyment\"]\n",
        "X_train = train.iloc[:,1:-1]\n",
        "X_test = test.iloc[:,1:]"
      ]
    },
    {
      "cell_type": "code",
      "execution_count": null,
      "metadata": {
        "colab": {
          "base_uri": "https://localhost:8080/"
        },
        "id": "dBSSsNm-gdQa",
        "outputId": "118d5bc0-9dcc-4e77-f471-746a9b990cef"
      },
      "outputs": [
        {
          "data": {
            "text/plain": [
              "array(['Best Concert Ever', 'Did Not Enjoy', 'Enjoyed',\n",
              "       'Worst Concert Ever'], dtype=object)"
            ]
          },
          "execution_count": 9,
          "metadata": {},
          "output_type": "execute_result"
        }
      ],
      "source": [
        "# Check y_train\n",
        "np.unique(y_train)"
      ]
    },
    {
      "cell_type": "code",
      "execution_count": null,
      "metadata": {
        "id": "HiYpJDUUfJJP"
      },
      "outputs": [],
      "source": [
        "# Checks columns are same\n",
        "assert (X_train.columns == X_test.columns).all()\n",
        "assert (X_train.dtypes == X_test.dtypes).all()"
      ]
    },
    {
      "cell_type": "code",
      "execution_count": null,
      "metadata": {
        "colab": {
          "base_uri": "https://localhost:8080/"
        },
        "id": "Dz3jdfr7f39X",
        "outputId": "e757fb6d-07c3-4a29-f9dd-de4b55b72a1a"
      },
      "outputs": [
        {
          "data": {
            "text/plain": [
              "Band Name                           54\n",
              "Band Genre                           8\n",
              "Band Country of Origin               4\n",
              "Band Debut                          34\n",
              "Concert ID                        1000\n",
              "Concert Attendance                  18\n",
              "Inside Venue                         2\n",
              "Rain                                 2\n",
              "Seated                               2\n",
              "Personnality Trait 1              2000\n",
              "Personnality Trait 2              2034\n",
              "Personnality Trait 3              2039\n",
              "Personnality Trait 4              2000\n",
              "Concert Goer Age                    61\n",
              "Concert Goer ID                   2000\n",
              "Height (cm)                         51\n",
              "Concert Goer Country of Origin     152\n",
              "dtype: int64"
            ]
          },
          "execution_count": 11,
          "metadata": {},
          "output_type": "execute_result"
        }
      ],
      "source": [
        "# Checks the number of unique values per category\n",
        "X_test.dropna().apply(lambda x:len(np.unique(x)))"
      ]
    },
    {
      "cell_type": "code",
      "execution_count": null,
      "metadata": {
        "colab": {
          "base_uri": "https://localhost:8080/"
        },
        "id": "ph9l43JHiCtd",
        "outputId": "c84253a0-3d5c-4904-c378-a346bde15305"
      },
      "outputs": [
        {
          "data": {
            "text/plain": [
              "(9, 8)"
            ]
          },
          "execution_count": 12,
          "metadata": {},
          "output_type": "execute_result"
        }
      ],
      "source": [
        "categorical_columns = [\"Band Name\",\"Band Genre\",\"Band Country of Origin\",\"Concert ID\",\"Inside Venue\",\"Rain\",\"Seated\",\"Concert Goer ID\",\"Concert Goer Country of Origin\"]\n",
        "numerical_columns = [\"Band Debut\",\"Concert Attendance\",\"Personnality Trait 1\",\"Personnality Trait 2\",\"Personnality Trait 3\",\"Personnality Trait 4\",\"Concert Goer Age\",\"Height (cm)\"]\n",
        "len(categorical_columns),len(numerical_columns)"
      ]
    },
    {
      "cell_type": "code",
      "execution_count": null,
      "metadata": {
        "id": "fgha0ZzJjgMd"
      },
      "outputs": [],
      "source": [
        "# Checks if train and test categories are same\n",
        "for column in categorical_columns:\n",
        "  assert (np.unique(X_test.dropna()[column]) == np.unique(X_train.dropna()[column])).all()"
      ]
    },
    {
      "cell_type": "code",
      "execution_count": null,
      "metadata": {
        "colab": {
          "base_uri": "https://localhost:8080/"
        },
        "id": "aRF_77c3i-a9",
        "outputId": "f5577ce9-db53-4c61-fe59-10e1475eb45b"
      },
      "outputs": [
        {
          "name": "stdout",
          "output_type": "stream",
          "text": [
            "\n",
            "Band Name : ['A Dozen Running Iced Frogs' 'Allo Knickers' 'Beyond Devon' 'Big Autumn'\n",
            " 'Big Division' 'Big Frogs Dream' 'Big Joystick' 'Crazy Crazy'\n",
            " 'Crazy Dream and a Pinch of Joystick' 'Crazy Frogs of Devon'\n",
            " 'Crazy Joystick Cult' 'Crazy Tooth' 'Crazyplay' 'Das Joystick'\n",
            " 'Devon Revival' 'Devon Thunder Thighs' 'Disciples Of Devon'\n",
            " 'Flight of the Knickers' 'Frogsica' 'Insert Band Name' \"It's My Joystick\"\n",
            " 'Joystick A Dozen' 'Joystick Army' 'Joystick Attack'\n",
            " 'Joystick for the Jockies' 'Joystick of the Big Knickers' 'King Blue'\n",
            " 'Knickers A Dozen' 'Knickers for the Jockies' 'Lord of the Crazy Frogs'\n",
            " 'My Heart, Your Thighs' 'Puddle of Joystick' 'Purely Blue' 'Ron Nor'\n",
            " 'Ron Talent' \"Ron's Midnight Jockies\" 'Ronatron' 'Rubbish Devon Frogs'\n",
            " 'Running Twins' 'Running at the Disco' 'Running for the Crazy Woman'\n",
            " 'Running in Devon' 'Super Crazy Frogs' 'Taking Back Autumn'\n",
            " 'Teenage Crazy Blue Knickers' 'The Big Service'\n",
            " 'The Crazy Heroes of Devon' 'The Crazy R Experience'\n",
            " 'The Running Crazy Jockies' 'The Running Knickers' 'This Joystick'\n",
            " 'Twilight of the Joystick Gods'\n",
            " 'Undercover Joystick and the Crazy Knickers' 'Why Frogs, Why?']\n",
            "\n",
            "Band Genre : ['Country' 'Heavy Metal' 'Hip Hop/Rap' 'Indie/Alt Rock'\n",
            " 'Insert Band Genre' 'Pop Music' 'RnB' 'Rock n Roll']\n",
            "\n",
            "Band Country of Origin : ['Canada' 'Insert Band Country of Origin' 'United Kingdom (UK)'\n",
            " 'United States of America (USA)']\n",
            "\n",
            "Concert ID : [  0.   1.   2.   3.   4.   5.   6.   7.   8.   9.  10.  11.  12.  13.\n",
            "  14.  15.  16.  17.  18.  19.  20.  21.  22.  23.  24.  25.  26.  27.\n",
            "  28.  29.  30.  31.  32.  33.  34.  35.  36.  37.  38.  39.  40.  41.\n",
            "  42.  43.  44.  45.  46.  47.  48.  49.  50.  51.  52.  53.  54.  55.\n",
            "  56.  57.  58.  59.  60.  61.  62.  63.  64.  65.  66.  67.  68.  69.\n",
            "  70.  71.  72.  73.  74.  75.  76.  77.  78.  79.  80.  81.  82.  83.\n",
            "  84.  85.  86.  87.  88.  89.  90.  91.  92.  93.  94.  95.  96.  97.\n",
            "  98.  99. 100. 101. 102. 103. 104. 105. 106. 107. 108. 109. 110. 111.\n",
            " 112. 113. 114. 115. 116. 117. 118. 119. 120. 121. 122. 123. 124. 125.\n",
            " 126. 127. 128. 129. 130. 131. 132. 133. 134. 135. 136. 137. 138. 139.\n",
            " 140. 141. 142. 143. 144. 145. 146. 147. 148. 149. 150. 151. 152. 153.\n",
            " 154. 155. 156. 157. 158. 159. 160. 161. 162. 163. 164. 165. 166. 167.\n",
            " 168. 169. 170. 171. 172. 173. 174. 175. 176. 177. 178. 179. 180. 181.\n",
            " 182. 183. 184. 185. 186. 187. 188. 189. 190. 191. 192. 193. 194. 195.\n",
            " 196. 197. 198. 199. 200. 201. 202. 203. 204. 205. 206. 207. 208. 209.\n",
            " 210. 211. 212. 213. 214. 215. 216. 217. 218. 219. 220. 221. 222. 223.\n",
            " 224. 225. 226. 227. 228. 229. 230. 231. 232. 233. 234. 235. 236. 237.\n",
            " 238. 239. 240. 241. 242. 243. 244. 245. 246. 247. 248. 249. 250. 251.\n",
            " 252. 253. 254. 255. 256. 257. 258. 259. 260. 261. 262. 263. 264. 265.\n",
            " 266. 267. 268. 269. 270. 271. 272. 273. 274. 275. 276. 277. 278. 279.\n",
            " 280. 281. 282. 283. 284. 285. 286. 287. 288. 289. 290. 291. 292. 293.\n",
            " 294. 295. 296. 297. 298. 299. 300. 301. 302. 303. 304. 305. 306. 307.\n",
            " 308. 309. 310. 311. 312. 313. 314. 315. 316. 317. 318. 319. 320. 321.\n",
            " 322. 323. 324. 325. 326. 327. 328. 329. 330. 331. 332. 333. 334. 335.\n",
            " 336. 337. 338. 339. 340. 341. 342. 343. 344. 345. 346. 347. 348. 349.\n",
            " 350. 351. 352. 353. 354. 355. 356. 357. 358. 359. 360. 361. 362. 363.\n",
            " 364. 365. 366. 367. 368. 369. 370. 371. 372. 373. 374. 375. 376. 377.\n",
            " 378. 379. 380. 381. 382. 383. 384. 385. 386. 387. 388. 389. 390. 391.\n",
            " 392. 393. 394. 395. 396. 397. 398. 399. 400. 401. 402. 403. 404. 405.\n",
            " 406. 407. 408. 409. 410. 411. 412. 413. 414. 415. 416. 417. 418. 419.\n",
            " 420. 421. 422. 423. 424. 425. 426. 427. 428. 429. 430. 431. 432. 433.\n",
            " 434. 435. 436. 437. 438. 439. 440. 441. 442. 443. 444. 445. 446. 447.\n",
            " 448. 449. 450. 451. 452. 453. 454. 455. 456. 457. 458. 459. 460. 461.\n",
            " 462. 463. 464. 465. 466. 467. 468. 469. 470. 471. 472. 473. 474. 475.\n",
            " 476. 477. 478. 479. 480. 481. 482. 483. 484. 485. 486. 487. 488. 489.\n",
            " 490. 491. 492. 493. 494. 495. 496. 497. 498. 499. 500. 501. 502. 503.\n",
            " 504. 505. 506. 507. 508. 509. 510. 511. 512. 513. 514. 515. 516. 517.\n",
            " 518. 519. 520. 521. 522. 523. 524. 525. 526. 527. 528. 529. 530. 531.\n",
            " 532. 533. 534. 535. 536. 537. 538. 539. 540. 541. 542. 543. 544. 545.\n",
            " 546. 547. 548. 549. 550. 551. 552. 553. 554. 555. 556. 557. 558. 559.\n",
            " 560. 561. 562. 563. 564. 565. 566. 567. 568. 569. 570. 571. 572. 573.\n",
            " 574. 575. 576. 577. 578. 579. 580. 581. 582. 583. 584. 585. 586. 587.\n",
            " 588. 589. 590. 591. 592. 593. 594. 595. 596. 597. 598. 599. 600. 601.\n",
            " 602. 603. 604. 605. 606. 607. 608. 609. 610. 611. 612. 613. 614. 615.\n",
            " 616. 617. 618. 619. 620. 621. 622. 623. 624. 625. 626. 627. 628. 629.\n",
            " 630. 631. 632. 633. 634. 635. 636. 637. 638. 639. 640. 641. 642. 643.\n",
            " 644. 645. 646. 647. 648. 649. 650. 651. 652. 653. 654. 655. 656. 657.\n",
            " 658. 659. 660. 661. 662. 663. 664. 665. 666. 667. 668. 669. 670. 671.\n",
            " 672. 673. 674. 675. 676. 677. 678. 679. 680. 681. 682. 683. 684. 685.\n",
            " 686. 687. 688. 689. 690. 691. 692. 693. 694. 695. 696. 697. 698. 699.\n",
            " 700. 701. 702. 703. 704. 705. 706. 707. 708. 709. 710. 711. 712. 713.\n",
            " 714. 715. 716. 717. 718. 719. 720. 721. 722. 723. 724. 725. 726. 727.\n",
            " 728. 729. 730. 731. 732. 733. 734. 735. 736. 737. 738. 739. 740. 741.\n",
            " 742. 743. 744. 745. 746. 747. 748. 749. 750. 751. 752. 753. 754. 755.\n",
            " 756. 757. 758. 759. 760. 761. 762. 763. 764. 765. 766. 767. 768. 769.\n",
            " 770. 771. 772. 773. 774. 775. 776. 777. 778. 779. 780. 781. 782. 783.\n",
            " 784. 785. 786. 787. 788. 789. 790. 791. 792. 793. 794. 795. 796. 797.\n",
            " 798. 799. 800. 801. 802. 803. 804. 805. 806. 807. 808. 809. 810. 811.\n",
            " 812. 813. 814. 815. 816. 817. 818. 819. 820. 821. 822. 823. 824. 825.\n",
            " 826. 827. 828. 829. 830. 831. 832. 833. 834. 835. 836. 837. 838. 839.\n",
            " 840. 841. 842. 843. 844. 845. 846. 847. 848. 849. 850. 851. 852. 853.\n",
            " 854. 855. 856. 857. 858. 859. 860. 861. 862. 863. 864. 865. 866. 867.\n",
            " 868. 869. 870. 871. 872. 873. 874. 875. 876. 877. 878. 879. 880. 881.\n",
            " 882. 883. 884. 885. 886. 887. 888. 889. 890. 891. 892. 893. 894. 895.\n",
            " 896. 897. 898. 899. 900. 901. 902. 903. 904. 905. 906. 907. 908. 909.\n",
            " 910. 911. 912. 913. 914. 915. 916. 917. 918. 919. 920. 921. 922. 923.\n",
            " 924. 925. 926. 927. 928. 929. 930. 931. 932. 933. 934. 935. 936. 937.\n",
            " 938. 939. 940. 941. 942. 943. 944. 945. 946. 947. 948. 949. 950. 951.\n",
            " 952. 953. 954. 955. 956. 957. 958. 959. 960. 961. 962. 963. 964. 965.\n",
            " 966. 967. 968. 969. 970. 971. 972. 973. 974. 975. 976. 977. 978. 979.\n",
            " 980. 981. 982. 983. 984. 985. 986. 987. 988. 989. 990. 991. 992. 993.\n",
            " 994. 995. 996. 997. 998. 999.]\n",
            "\n",
            "Inside Venue : [False True]\n",
            "\n",
            "Rain : [False True]\n",
            "\n",
            "Seated : [False True]\n",
            "\n",
            "Concert Goer ID : ['concert_goer_0' 'concert_goer_1' 'concert_goer_10' ...\n",
            " 'concert_goer_997' 'concert_goer_998' 'concert_goer_999']\n",
            "\n",
            "Concert Goer Country of Origin : ['Albania' 'Algeria' 'Andorra' 'Angola' 'Antigua and Barbuda' 'Argentina'\n",
            " 'Australia' 'Austria' 'Azerbaijan' 'Bahamas' 'Bahrain' 'Barbados'\n",
            " 'Belgium' 'Belize' 'Bhutan' 'Bolivia' 'Bosnia and Herzegovina' 'Botswana'\n",
            " 'Brazil' 'Bulgaria' 'Burkina Faso' 'Burundi' 'Cabo Verde' 'Cameroon'\n",
            " 'Canada' 'Central African Republic (CAR)' 'Chad' 'Chile' 'China'\n",
            " 'Comoros' 'Congo, Democratic Republic of the' 'Costa Rica'\n",
            " \"Cote d'Ivoire\" 'Croatia' 'Cyprus' 'Czechia' 'Denmark' 'Djibouti'\n",
            " 'Dominican Republic' 'Ecuador' 'El Salvador' 'Equatorial Guinea'\n",
            " 'Estonia' 'Eswatini' 'Fiji' 'Finland' 'France' 'Gambia' 'Georgia'\n",
            " 'Germany' 'Ghana' 'Greece' 'Grenada' 'Guinea-Bissau' 'Haiti' 'Honduras'\n",
            " 'Iceland' 'India' 'Indonesia' 'Iraq' 'Ireland' 'Israel' 'Jamaica' 'Japan'\n",
            " 'Jordan' 'Kazakhstan' 'Kenya' 'Kosovo' 'Kuwait' 'Kyrgyzstan' 'Laos'\n",
            " 'Latvia' 'Lebanon' 'Lesotho' 'Liberia' 'Liechtenstein' 'Lithuania'\n",
            " 'Luxembourg' 'Madagascar' 'Malawi' 'Malaysia' 'Maldives' 'Mali' 'Malta'\n",
            " 'Mauritania' 'Micronesia' 'Moldova' 'Monaco' 'Montenegro' 'Mozambique'\n",
            " 'Myanmar' 'Namibia' 'Nauru' 'Nepal' 'Netherlands' 'New Zealand' 'Niger'\n",
            " 'Nigeria' 'North Korea' 'Norway' 'Palau' 'Palestine' 'Panama'\n",
            " 'Papua New Guinea' 'Paraguay' 'Peru' 'Philippines' 'Poland' 'Portugal'\n",
            " 'Romania' 'Russia' 'Rwanda' 'Saint Lucia' 'Samoa' 'Sao Tome and Principe'\n",
            " 'Saudi Arabia' 'Senegal' 'Serbia' 'Seychelles' 'Sierra Leone' 'Singapore'\n",
            " 'Slovakia' 'Slovenia' 'Solomon Islands' 'Somalia' 'South Africa'\n",
            " 'South Sudan' 'Spain' 'Sri Lanka' 'Sudan' 'Suriname' 'Sweden'\n",
            " 'Switzerland' 'Taiwan' 'Tanzania' 'Thailand' 'Timor-Leste' 'Tonga'\n",
            " 'Trinidad and Tobago' 'Tunisia' 'Turkey' 'Uganda'\n",
            " 'United Arab Emirates (UAE)' 'United Kingdom (UK)'\n",
            " 'United States of America (USA)' 'Uzbekistan' 'Vanuatu'\n",
            " 'Vatican City (Holy See)' 'Vietnam' 'Yemen' 'Zambia' 'Zimbabwe']\n"
          ]
        }
      ],
      "source": [
        "# Checks Categories\n",
        "for column in categorical_columns:\n",
        "  print(f\"\\n{column} : {np.unique(X_train.dropna()[column])}\")"
      ]
    },
    {
      "cell_type": "code",
      "execution_count": null,
      "metadata": {
        "colab": {
          "base_uri": "https://localhost:8080/"
        },
        "id": "bRMQikXZlfBI",
        "outputId": "44affebd-1e41-4d66-c9e9-b2af870624f6"
      },
      "outputs": [
        {
          "name": "stdout",
          "output_type": "stream",
          "text": [
            "\n",
            "Band Debut (min,max) : (1955.0, 2014.0)\n",
            "\n",
            "Concert Attendance (min,max) : (54.0, 1627540000.0)\n",
            "\n",
            "Personnality Trait 1 (min,max) : (-3.124408013980475, 3.6288284548257344)\n",
            "\n",
            "Personnality Trait 2 (min,max) : (-293861.500146255, 325834.0167948213)\n",
            "\n",
            "Personnality Trait 3 (min,max) : (-3.275108025039912, 3.3088097713169256)\n",
            "\n",
            "Personnality Trait 4 (min,max) : (-3.287787272200245, 3.8309227330178097)\n",
            "\n",
            "Concert Goer Age (min,max) : (16.0, 76.0)\n",
            "\n",
            "Height (cm) (min,max) : (140.0, 190.0)\n"
          ]
        }
      ],
      "source": [
        "# Checks numerical values\n",
        "for column in numerical_columns:\n",
        "  print(f\"\\n{column} (min,max) : {np.min(X_train.dropna()[column]),np.max(X_train.dropna()[column])}\")"
      ]
    },
    {
      "cell_type": "code",
      "execution_count": null,
      "metadata": {
        "id": "MhNcodkqmSRX"
      },
      "outputs": [],
      "source": [
        "from collections import Counter\n",
        "from tqdm import tqdm"
      ]
    },
    {
      "cell_type": "code",
      "execution_count": null,
      "metadata": {
        "colab": {
          "base_uri": "https://localhost:8080/"
        },
        "id": "nBWMB7Afr_RG",
        "outputId": "9036fbb8-8707-4b03-e305-39a750271fd6"
      },
      "outputs": [
        {
          "name": "stdout",
          "output_type": "stream",
          "text": [
            "Counter({-0.0953370387661154: 85, -9533.703876611547: 2})\n"
          ]
        }
      ],
      "source": [
        "# Checks error type for Personnality Trait values\n",
        "for concert_goer_id in np.unique(X_train.dropna()[\"Concert Goer ID\"]):\n",
        "  if len(np.unique(X_train.dropna().loc[X_train.dropna()[\"Concert Goer ID\"]==concert_goer_id][\"Personnality Trait 2\"]))>1:\n",
        "    print(Counter(X_train.dropna().loc[X_train.dropna()[\"Concert Goer ID\"]==concert_goer_id][\"Personnality Trait 2\"]))\n",
        "    break"
      ]
    },
    {
      "cell_type": "code",
      "execution_count": null,
      "metadata": {
        "colab": {
          "base_uri": "https://localhost:8080/"
        },
        "id": "c_YGvG_hwiyx",
        "outputId": "b6139c8f-4f98-4dd6-e7b7-917dfe9295b2"
      },
      "outputs": [
        {
          "data": {
            "text/plain": [
              "Counter({54.0: 19306,\n",
              "         8103.0: 17010,\n",
              "         540000.0: 23,\n",
              "         2980.0: 20753,\n",
              "         148.0: 16838,\n",
              "         59874.0: 16442,\n",
              "         162754.0: 15852,\n",
              "         22026.0: 19165,\n",
              "         403.0: 14783,\n",
              "         1096.0: 15704,\n",
              "         10960000.0: 19,\n",
              "         29800000.0: 22,\n",
              "         598740000.0: 18,\n",
              "         4030000.0: 21,\n",
              "         1480000.0: 22,\n",
              "         220260000.0: 16,\n",
              "         81030000.0: 16,\n",
              "         1627540000.0: 13})"
            ]
          },
          "execution_count": 18,
          "metadata": {},
          "output_type": "execute_result"
        }
      ],
      "source": [
        "# Check errors in Concert Attendance values\n",
        "Counter(X_train.dropna()[\"Concert Attendance\"])"
      ]
    },
    {
      "cell_type": "code",
      "execution_count": null,
      "metadata": {
        "id": "XAgwUdxN7xUH"
      },
      "outputs": [],
      "source": [
        "# Check if the values are the same in testing and training sets\n",
        "assert (np.unique(X_train.dropna()[\"Concert Attendance\"]) == np.unique(X_test.dropna()[\"Concert Attendance\"])).all()"
      ]
    },
    {
      "cell_type": "markdown",
      "metadata": {
        "id": "8FcPbjh1ayYB"
      },
      "source": [
        "### 2. Missing Data Imputation"
      ]
    },
    {
      "cell_type": "markdown",
      "metadata": {
        "id": "XboSCiZG2k32"
      },
      "source": [
        "In the first part we saw some issues with the dataset:\n",
        "* There are missing values (NaN values) for each input feature.\n",
        "* *Band Name*, *Band Genre* and *Band Country of Origin* features also have some missing features hidden as for example 'Insert Band Name'.\n",
        "* There are sometimes several *Personnality Trait* for a single *Concert Goer*, with incoherent values.\n",
        "* Some inputs of the feature *Concert Attendance* have been multiplied by 10 000.\n",
        "\n",
        "In this part we try to correct these mistakes, and then to estimate the missing values."
      ]
    },
    {
      "cell_type": "markdown",
      "metadata": {
        "id": "6JSeOtgq-WCi"
      },
      "source": [
        "#### a. Taking care of errors in the datasets"
      ]
    },
    {
      "cell_type": "code",
      "execution_count": null,
      "metadata": {
        "id": "22b5q9P-ka5j"
      },
      "outputs": [],
      "source": [
        "y_train = train[\"Concert Enjoyment\"]\n",
        "X_train = train.iloc[:,1:-1]\n",
        "X_test = test.iloc[:,1:]\n",
        "df = pd.concat([X_train,X_test])"
      ]
    },
    {
      "cell_type": "code",
      "execution_count": null,
      "metadata": {
        "colab": {
          "base_uri": "https://localhost:8080/"
        },
        "id": "diirq_t4k19x",
        "outputId": "a61d019c-d132-4534-be2a-f33fc3632d7b"
      },
      "outputs": [
        {
          "data": {
            "text/plain": [
              "Band Name                  995\n",
              "Band Genre                1022\n",
              "Band Country of Origin     947\n",
              "dtype: int64"
            ]
          },
          "execution_count": 21,
          "metadata": {},
          "output_type": "execute_result"
        }
      ],
      "source": [
        "df[[\"Band Name\",\"Band Genre\",\"Band Country of Origin\"]].isnull().sum()"
      ]
    },
    {
      "cell_type": "code",
      "execution_count": null,
      "metadata": {
        "colab": {
          "base_uri": "https://localhost:8080/"
        },
        "id": "FTGKQsbXfEoG",
        "outputId": "ae125afd-41c8-408f-af42-852de1fe2529"
      },
      "outputs": [
        {
          "name": "stderr",
          "output_type": "stream",
          "text": [
            "/usr/local/lib/python3.8/dist-packages/pandas/core/indexing.py:1732: SettingWithCopyWarning: \n",
            "A value is trying to be set on a copy of a slice from a DataFrame\n",
            "\n",
            "See the caveats in the documentation: https://pandas.pydata.org/pandas-docs/stable/user_guide/indexing.html#returning-a-view-versus-a-copy\n",
            "  self._setitem_single_block(indexer, value, name)\n"
          ]
        }
      ],
      "source": [
        "# Replace \"Insert Band Name\" with NaN\n",
        "df[\"Band Name\"].loc[df[\"Band Name\"]==\"Insert Band Name\"] = df[\"Band Name\"].loc[df[\"Band Name\"]==\"Insert Band Name\"].apply(lambda x: np.nan)\n",
        "\n",
        "# Replace \"Insert Band Genre\" with NaN\n",
        "df[\"Band Genre\"].loc[df[\"Band Genre\"]==\"Insert Band Genre\"] = df[\"Band Genre\"].loc[df[\"Band Genre\"]==\"Insert Band Genre\"].apply(lambda x: np.nan)\n",
        "\n",
        "# Replace \"Insert Band Country of Origin\" with NaN\n",
        "df[\"Band Country of Origin\"].loc[df[\"Band Country of Origin\"]==\"Insert Band Country of Origin\"] = df[\"Band Country of Origin\"].loc[df[\"Band Country of Origin\"]==\"Insert Band Country of Origin\"].apply(lambda x: np.nan)"
      ]
    },
    {
      "cell_type": "code",
      "execution_count": null,
      "metadata": {
        "colab": {
          "base_uri": "https://localhost:8080/"
        },
        "id": "4v6lX6Qra1Lu",
        "outputId": "3081bdb6-d061-47f7-f577-1d421b8ceddf"
      },
      "outputs": [
        {
          "data": {
            "text/plain": [
              "Band Name                 1202\n",
              "Band Genre                1122\n",
              "Band Country of Origin    1153\n",
              "dtype: int64"
            ]
          },
          "execution_count": 23,
          "metadata": {},
          "output_type": "execute_result"
        }
      ],
      "source": [
        "df[[\"Band Name\",\"Band Genre\",\"Band Country of Origin\"]].isnull().sum()"
      ]
    },
    {
      "cell_type": "code",
      "execution_count": null,
      "metadata": {
        "id": "eodJeF1N0ChP"
      },
      "outputs": [],
      "source": [
        "# Map goer ID to majority Personnality Trait\n",
        "goer_to_personnality1 = df[[\"Concert Goer ID\",\"Personnality Trait 1\"]].groupby(['Concert Goer ID'])['Personnality Trait 1'].agg(pd.Series.mode)\n",
        "goer_to_personnality2 = df[[\"Concert Goer ID\",\"Personnality Trait 2\"]].groupby(['Concert Goer ID'])['Personnality Trait 2'].agg(pd.Series.mode)\n",
        "goer_to_personnality3 = df[[\"Concert Goer ID\",\"Personnality Trait 3\"]].groupby(['Concert Goer ID'])['Personnality Trait 3'].agg(pd.Series.mode)\n",
        "goer_to_personnality4 = df[[\"Concert Goer ID\",\"Personnality Trait 4\"]].groupby(['Concert Goer ID'])['Personnality Trait 4'].agg(pd.Series.mode)\n",
        "\n",
        "# Replace Personnality traits with the main majority trait in each concert goer\n",
        "df.loc[df[[\"Concert Goer ID\",\"Personnality Trait 1\"]].notnull().all(axis=1),\"Personnality Trait 1\"] = np.array(goer_to_personnality1[df[[\"Concert Goer ID\",\"Personnality Trait 1\"]].dropna()['Concert Goer ID']])\n",
        "df.loc[df[[\"Concert Goer ID\",\"Personnality Trait 2\"]].notnull().all(axis=1),\"Personnality Trait 2\"] = np.array(goer_to_personnality2[df[[\"Concert Goer ID\",\"Personnality Trait 2\"]].dropna()['Concert Goer ID']])\n",
        "df.loc[df[[\"Concert Goer ID\",\"Personnality Trait 3\"]].notnull().all(axis=1),\"Personnality Trait 3\"] = np.array(goer_to_personnality3[df[[\"Concert Goer ID\",\"Personnality Trait 3\"]].dropna()['Concert Goer ID']])\n",
        "df.loc[df[[\"Concert Goer ID\",\"Personnality Trait 4\"]].notnull().all(axis=1),\"Personnality Trait 4\"] = np.array(goer_to_personnality4[df[[\"Concert Goer ID\",\"Personnality Trait 4\"]].dropna()['Concert Goer ID']])\n",
        "\n",
        "# When the Concert Goer ID is missing, replaces outliers with NaN\n",
        "df.loc[(df[\"Concert Goer ID\"].isnull()) & (np.abs(df[\"Personnality Trait 1\"])>5),\"Personnality Trait 1\"] = df.loc[(df[\"Concert Goer ID\"].isnull()) & (np.abs(df[\"Personnality Trait 1\"])>5),\"Personnality Trait 1\"].apply(lambda x: np.nan)\n",
        "df.loc[(df[\"Concert Goer ID\"].isnull()) & (np.abs(df[\"Personnality Trait 2\"])>5),\"Personnality Trait 2\"] = df.loc[(df[\"Concert Goer ID\"].isnull()) & (np.abs(df[\"Personnality Trait 2\"])>5),\"Personnality Trait 2\"].apply(lambda x: np.nan)\n",
        "df.loc[(df[\"Concert Goer ID\"].isnull()) & (np.abs(df[\"Personnality Trait 3\"])>5),\"Personnality Trait 3\"] = df.loc[(df[\"Concert Goer ID\"].isnull()) & (np.abs(df[\"Personnality Trait 3\"])>5),\"Personnality Trait 3\"].apply(lambda x: np.nan)\n",
        "df.loc[(df[\"Concert Goer ID\"].isnull()) & (np.abs(df[\"Personnality Trait 4\"])>5),\"Personnality Trait 4\"] = df.loc[(df[\"Concert Goer ID\"].isnull()) & (np.abs(df[\"Personnality Trait 4\"])>5),\"Personnality Trait 4\"].apply(lambda x: np.nan)"
      ]
    },
    {
      "cell_type": "code",
      "execution_count": null,
      "metadata": {
        "colab": {
          "base_uri": "https://localhost:8080/"
        },
        "id": "XKq9pK3Z5AqJ",
        "outputId": "a71e18bb-7c62-4b13-bb04-f34e749d378b"
      },
      "outputs": [
        {
          "data": {
            "text/plain": [
              "True"
            ]
          },
          "execution_count": 25,
          "metadata": {},
          "output_type": "execute_result"
        }
      ],
      "source": [
        "# Checks modifications\n",
        "len(df.groupby(['Concert Goer ID','Personnality Trait 1','Personnality Trait 2','Personnality Trait 3','Personnality Trait 4']).count()) == len(df.groupby(['Concert Goer ID']).count())"
      ]
    },
    {
      "cell_type": "code",
      "execution_count": null,
      "metadata": {
        "id": "M4n2O7N3Tm_B"
      },
      "outputs": [],
      "source": []
    },
    {
      "cell_type": "code",
      "execution_count": null,
      "metadata": {
        "id": "bJ8wE1tJ6aYA"
      },
      "outputs": [],
      "source": [
        "# Replace the values multiplied by 10 000 by the real values\n",
        "df.loc[df[\"Concert Attendance\"]>500000,\"Concert Attendance\"] = df.loc[df[\"Concert Attendance\"]>500000,\"Concert Attendance\"]/10000"
      ]
    },
    {
      "cell_type": "code",
      "execution_count": null,
      "metadata": {
        "colab": {
          "base_uri": "https://localhost:8080/"
        },
        "id": "VZxhtukK9L4i",
        "outputId": "278ca3c2-aea1-402c-f2e3-af06ce58056c"
      },
      "outputs": [
        {
          "data": {
            "text/plain": [
              "Counter({54.0: 22702,\n",
              "         8103.0: 19948,\n",
              "         2980.0: 24384,\n",
              "         148.0: 19806,\n",
              "         59874.0: 19280,\n",
              "         162754.0: 18657,\n",
              "         22026.0: 22533,\n",
              "         403.0: 17356,\n",
              "         1096.0: 18494})"
            ]
          },
          "execution_count": 27,
          "metadata": {},
          "output_type": "execute_result"
        }
      ],
      "source": [
        "# Checks modifications\n",
        "Counter(df.dropna()[\"Concert Attendance\"])"
      ]
    },
    {
      "cell_type": "code",
      "execution_count": null,
      "metadata": {
        "colab": {
          "base_uri": "https://localhost:8080/"
        },
        "id": "-5TPq4Hs95Ni",
        "outputId": "598ef246-64ab-42d2-838a-69e04dc286ff"
      },
      "outputs": [
        {
          "name": "stdout",
          "output_type": "stream",
          "text": [
            "\n",
            "Band Name : ['A Dozen Running Iced Frogs' 'Allo Knickers' 'Beyond Devon' 'Big Autumn'\n",
            " 'Big Division' 'Big Frogs Dream' 'Big Joystick' 'Crazy Crazy'\n",
            " 'Crazy Dream and a Pinch of Joystick' 'Crazy Frogs of Devon'\n",
            " 'Crazy Joystick Cult' 'Crazy Tooth' 'Crazyplay' 'Das Joystick'\n",
            " 'Devon Revival' 'Devon Thunder Thighs' 'Disciples Of Devon'\n",
            " 'Flight of the Knickers' 'Frogsica' \"It's My Joystick\" 'Joystick A Dozen'\n",
            " 'Joystick Army' 'Joystick Attack' 'Joystick for the Jockies'\n",
            " 'Joystick of the Big Knickers' 'King Blue' 'Knickers A Dozen'\n",
            " 'Knickers for the Jockies' 'Lord of the Crazy Frogs'\n",
            " 'My Heart, Your Thighs' 'Puddle of Joystick' 'Purely Blue' 'Ron Nor'\n",
            " 'Ron Talent' \"Ron's Midnight Jockies\" 'Ronatron' 'Rubbish Devon Frogs'\n",
            " 'Running Twins' 'Running at the Disco' 'Running for the Crazy Woman'\n",
            " 'Running in Devon' 'Super Crazy Frogs' 'Taking Back Autumn'\n",
            " 'Teenage Crazy Blue Knickers' 'The Big Service'\n",
            " 'The Crazy Heroes of Devon' 'The Crazy R Experience'\n",
            " 'The Running Crazy Jockies' 'The Running Knickers' 'This Joystick'\n",
            " 'Twilight of the Joystick Gods'\n",
            " 'Undercover Joystick and the Crazy Knickers' 'Why Frogs, Why?']\n",
            "\n",
            "Band Genre : ['Country' 'Heavy Metal' 'Hip Hop/Rap' 'Indie/Alt Rock' 'Pop Music' 'RnB'\n",
            " 'Rock n Roll']\n",
            "\n",
            "Band Country of Origin : ['Canada' 'United Kingdom (UK)' 'United States of America (USA)']\n",
            "\n",
            "Concert ID : [  0.   1.   2.   3.   4.   5.   6.   7.   8.   9.  10.  11.  12.  13.\n",
            "  14.  15.  16.  17.  18.  19.  20.  21.  22.  23.  24.  25.  26.  27.\n",
            "  28.  29.  30.  31.  32.  33.  34.  35.  36.  37.  38.  39.  40.  41.\n",
            "  42.  43.  44.  45.  46.  47.  48.  49.  50.  51.  52.  53.  54.  55.\n",
            "  56.  57.  58.  59.  60.  61.  62.  63.  64.  65.  66.  67.  68.  69.\n",
            "  70.  71.  72.  73.  74.  75.  76.  77.  78.  79.  80.  81.  82.  83.\n",
            "  84.  85.  86.  87.  88.  89.  90.  91.  92.  93.  94.  95.  96.  97.\n",
            "  98.  99. 100. 101. 102. 103. 104. 105. 106. 107. 108. 109. 110. 111.\n",
            " 112. 113. 114. 115. 116. 117. 118. 119. 120. 121. 122. 123. 124. 125.\n",
            " 126. 127. 128. 129. 130. 131. 132. 133. 134. 135. 136. 137. 138. 139.\n",
            " 140. 141. 142. 143. 144. 145. 146. 147. 148. 149. 150. 151. 152. 153.\n",
            " 154. 155. 156. 157. 158. 159. 160. 161. 162. 163. 164. 165. 166. 167.\n",
            " 168. 169. 170. 171. 172. 173. 174. 175. 176. 177. 178. 179. 180. 181.\n",
            " 182. 183. 184. 185. 186. 187. 188. 189. 190. 191. 192. 193. 194. 195.\n",
            " 196. 197. 198. 199. 200. 201. 202. 203. 204. 205. 206. 207. 208. 209.\n",
            " 210. 211. 212. 213. 214. 215. 216. 217. 218. 219. 220. 221. 222. 223.\n",
            " 224. 225. 226. 227. 228. 229. 230. 231. 232. 233. 234. 235. 236. 237.\n",
            " 238. 239. 240. 241. 242. 243. 244. 245. 246. 247. 248. 249. 250. 251.\n",
            " 252. 253. 254. 255. 256. 257. 258. 259. 260. 261. 262. 263. 264. 265.\n",
            " 266. 267. 268. 269. 270. 271. 272. 273. 274. 275. 276. 277. 278. 279.\n",
            " 280. 281. 282. 283. 284. 285. 286. 287. 288. 289. 290. 291. 292. 293.\n",
            " 294. 295. 296. 297. 298. 299. 300. 301. 302. 303. 304. 305. 306. 307.\n",
            " 308. 309. 310. 311. 312. 313. 314. 315. 316. 317. 318. 319. 320. 321.\n",
            " 322. 323. 324. 325. 326. 327. 328. 329. 330. 331. 332. 333. 334. 335.\n",
            " 336. 337. 338. 339. 340. 341. 342. 343. 344. 345. 346. 347. 348. 349.\n",
            " 350. 351. 352. 353. 354. 355. 356. 357. 358. 359. 360. 361. 362. 363.\n",
            " 364. 365. 366. 367. 368. 369. 370. 371. 372. 373. 374. 375. 376. 377.\n",
            " 378. 379. 380. 381. 382. 383. 384. 385. 386. 387. 388. 389. 390. 391.\n",
            " 392. 393. 394. 395. 396. 397. 398. 399. 400. 401. 402. 403. 404. 405.\n",
            " 406. 407. 408. 409. 410. 411. 412. 413. 414. 415. 416. 417. 418. 419.\n",
            " 420. 421. 422. 423. 424. 425. 426. 427. 428. 429. 430. 431. 432. 433.\n",
            " 434. 435. 436. 437. 438. 439. 440. 441. 442. 443. 444. 445. 446. 447.\n",
            " 448. 449. 450. 451. 452. 453. 454. 455. 456. 457. 458. 459. 460. 461.\n",
            " 462. 463. 464. 465. 466. 467. 468. 469. 470. 471. 472. 473. 474. 475.\n",
            " 476. 477. 478. 479. 480. 481. 482. 483. 484. 485. 486. 487. 488. 489.\n",
            " 490. 491. 492. 493. 494. 495. 496. 497. 498. 499. 500. 501. 502. 503.\n",
            " 504. 505. 506. 507. 508. 509. 510. 511. 512. 513. 514. 515. 516. 517.\n",
            " 518. 519. 520. 521. 522. 523. 524. 525. 526. 527. 528. 529. 530. 531.\n",
            " 532. 533. 534. 535. 536. 537. 538. 539. 540. 541. 542. 543. 544. 545.\n",
            " 546. 547. 548. 549. 550. 551. 552. 553. 554. 555. 556. 557. 558. 559.\n",
            " 560. 561. 562. 563. 564. 565. 566. 567. 568. 569. 570. 571. 572. 573.\n",
            " 574. 575. 576. 577. 578. 579. 580. 581. 582. 583. 584. 585. 586. 587.\n",
            " 588. 589. 590. 591. 592. 593. 594. 595. 596. 597. 598. 599. 600. 601.\n",
            " 602. 603. 604. 605. 606. 607. 608. 609. 610. 611. 612. 613. 614. 615.\n",
            " 616. 617. 618. 619. 620. 621. 622. 623. 624. 625. 626. 627. 628. 629.\n",
            " 630. 631. 632. 633. 634. 635. 636. 637. 638. 639. 640. 641. 642. 643.\n",
            " 644. 645. 646. 647. 648. 649. 650. 651. 652. 653. 654. 655. 656. 657.\n",
            " 658. 659. 660. 661. 662. 663. 664. 665. 666. 667. 668. 669. 670. 671.\n",
            " 672. 673. 674. 675. 676. 677. 678. 679. 680. 681. 682. 683. 684. 685.\n",
            " 686. 687. 688. 689. 690. 691. 692. 693. 694. 695. 696. 697. 698. 699.\n",
            " 700. 701. 702. 703. 704. 705. 706. 707. 708. 709. 710. 711. 712. 713.\n",
            " 714. 715. 716. 717. 718. 719. 720. 721. 722. 723. 724. 725. 726. 727.\n",
            " 728. 729. 730. 731. 732. 733. 734. 735. 736. 737. 738. 739. 740. 741.\n",
            " 742. 743. 744. 745. 746. 747. 748. 749. 750. 751. 752. 753. 754. 755.\n",
            " 756. 757. 758. 759. 760. 761. 762. 763. 764. 765. 766. 767. 768. 769.\n",
            " 770. 771. 772. 773. 774. 775. 776. 777. 778. 779. 780. 781. 782. 783.\n",
            " 784. 785. 786. 787. 788. 789. 790. 791. 792. 793. 794. 795. 796. 797.\n",
            " 798. 799. 800. 801. 802. 803. 804. 805. 806. 807. 808. 809. 810. 811.\n",
            " 812. 813. 814. 815. 816. 817. 818. 819. 820. 821. 822. 823. 824. 825.\n",
            " 826. 827. 828. 829. 830. 831. 832. 833. 834. 835. 836. 837. 838. 839.\n",
            " 840. 841. 842. 843. 844. 845. 846. 847. 848. 849. 850. 851. 852. 853.\n",
            " 854. 855. 856. 857. 858. 859. 860. 861. 862. 863. 864. 865. 866. 867.\n",
            " 868. 869. 870. 871. 872. 873. 874. 875. 876. 877. 878. 879. 880. 881.\n",
            " 882. 883. 884. 885. 886. 887. 888. 889. 890. 891. 892. 893. 894. 895.\n",
            " 896. 897. 898. 899. 900. 901. 902. 903. 904. 905. 906. 907. 908. 909.\n",
            " 910. 911. 912. 913. 914. 915. 916. 917. 918. 919. 920. 921. 922. 923.\n",
            " 924. 925. 926. 927. 928. 929. 930. 931. 932. 933. 934. 935. 936. 937.\n",
            " 938. 939. 940. 941. 942. 943. 944. 945. 946. 947. 948. 949. 950. 951.\n",
            " 952. 953. 954. 955. 956. 957. 958. 959. 960. 961. 962. 963. 964. 965.\n",
            " 966. 967. 968. 969. 970. 971. 972. 973. 974. 975. 976. 977. 978. 979.\n",
            " 980. 981. 982. 983. 984. 985. 986. 987. 988. 989. 990. 991. 992. 993.\n",
            " 994. 995. 996. 997. 998. 999.]\n",
            "\n",
            "Inside Venue : [False True]\n",
            "\n",
            "Rain : [False True]\n",
            "\n",
            "Seated : [False True]\n",
            "\n",
            "Concert Goer ID : ['concert_goer_0' 'concert_goer_1' 'concert_goer_10' ...\n",
            " 'concert_goer_997' 'concert_goer_998' 'concert_goer_999']\n",
            "\n",
            "Concert Goer Country of Origin : ['Albania' 'Algeria' 'Andorra' 'Angola' 'Antigua and Barbuda' 'Argentina'\n",
            " 'Australia' 'Austria' 'Azerbaijan' 'Bahamas' 'Bahrain' 'Barbados'\n",
            " 'Belgium' 'Belize' 'Bhutan' 'Bolivia' 'Bosnia and Herzegovina' 'Botswana'\n",
            " 'Brazil' 'Bulgaria' 'Burkina Faso' 'Burundi' 'Cabo Verde' 'Cameroon'\n",
            " 'Canada' 'Central African Republic (CAR)' 'Chad' 'Chile' 'China'\n",
            " 'Comoros' 'Congo, Democratic Republic of the' 'Costa Rica'\n",
            " \"Cote d'Ivoire\" 'Croatia' 'Cyprus' 'Czechia' 'Denmark' 'Djibouti'\n",
            " 'Dominican Republic' 'Ecuador' 'El Salvador' 'Equatorial Guinea'\n",
            " 'Estonia' 'Eswatini' 'Fiji' 'Finland' 'France' 'Gambia' 'Georgia'\n",
            " 'Germany' 'Ghana' 'Greece' 'Grenada' 'Guinea-Bissau' 'Haiti' 'Honduras'\n",
            " 'Iceland' 'India' 'Indonesia' 'Iraq' 'Ireland' 'Israel' 'Jamaica' 'Japan'\n",
            " 'Jordan' 'Kazakhstan' 'Kenya' 'Kosovo' 'Kuwait' 'Kyrgyzstan' 'Laos'\n",
            " 'Latvia' 'Lebanon' 'Lesotho' 'Liberia' 'Liechtenstein' 'Lithuania'\n",
            " 'Luxembourg' 'Madagascar' 'Malawi' 'Malaysia' 'Maldives' 'Mali' 'Malta'\n",
            " 'Mauritania' 'Micronesia' 'Moldova' 'Monaco' 'Montenegro' 'Mozambique'\n",
            " 'Myanmar' 'Namibia' 'Nauru' 'Nepal' 'Netherlands' 'New Zealand' 'Niger'\n",
            " 'Nigeria' 'North Korea' 'Norway' 'Palau' 'Palestine' 'Panama'\n",
            " 'Papua New Guinea' 'Paraguay' 'Peru' 'Philippines' 'Poland' 'Portugal'\n",
            " 'Romania' 'Russia' 'Rwanda' 'Saint Lucia' 'Samoa' 'Sao Tome and Principe'\n",
            " 'Saudi Arabia' 'Senegal' 'Serbia' 'Seychelles' 'Sierra Leone' 'Singapore'\n",
            " 'Slovakia' 'Slovenia' 'Solomon Islands' 'Somalia' 'South Africa'\n",
            " 'South Sudan' 'Spain' 'Sri Lanka' 'Sudan' 'Suriname' 'Sweden'\n",
            " 'Switzerland' 'Taiwan' 'Tanzania' 'Thailand' 'Timor-Leste' 'Tonga'\n",
            " 'Trinidad and Tobago' 'Tunisia' 'Turkey' 'Uganda'\n",
            " 'United Arab Emirates (UAE)' 'United Kingdom (UK)'\n",
            " 'United States of America (USA)' 'Uzbekistan' 'Vanuatu'\n",
            " 'Vatican City (Holy See)' 'Vietnam' 'Yemen' 'Zambia' 'Zimbabwe']\n"
          ]
        }
      ],
      "source": [
        "# Rechecks Categories\n",
        "for column in categorical_columns:\n",
        "  print(f\"\\n{column} : {np.unique(df.dropna()[column])}\")"
      ]
    },
    {
      "cell_type": "code",
      "execution_count": null,
      "metadata": {
        "colab": {
          "base_uri": "https://localhost:8080/"
        },
        "id": "wmOMDo469kmd",
        "outputId": "1cfdb5b1-8a37-4904-defd-143a1a3fd167"
      },
      "outputs": [
        {
          "name": "stdout",
          "output_type": "stream",
          "text": [
            "\n",
            "Band Debut : (1955.0, 2014.0)\n",
            "\n",
            "Concert Attendance : (54.0, 162754.0)\n",
            "\n",
            "Personnality Trait 1 : (-3.124408013980475, 3.6288284548257344)\n",
            "\n",
            "Personnality Trait 2 : (-4.412361877000035, 3.859654864540642)\n",
            "\n",
            "Personnality Trait 3 : (-3.275108025039912, 3.3088097713169256)\n",
            "\n",
            "Personnality Trait 4 : (-3.287787272200245, 3.8309227330178097)\n",
            "\n",
            "Concert Goer Age : (16.0, 76.0)\n",
            "\n",
            "Height (cm) : (140.0, 190.0)\n"
          ]
        }
      ],
      "source": [
        "# Rechecks numerical values\n",
        "for column in numerical_columns:\n",
        "  print(f\"\\n{column} : {np.min(df.dropna()[column]),np.max(df.dropna()[column])}\")"
      ]
    },
    {
      "cell_type": "markdown",
      "metadata": {
        "id": "Vgvedkxf-yAY"
      },
      "source": [
        "#### b. Value Imputation"
      ]
    },
    {
      "cell_type": "code",
      "execution_count": null,
      "metadata": {
        "id": "mKshid-x_Buu"
      },
      "outputs": [],
      "source": [
        "# Returns a sparse preprocessed matrix\n",
        "def preprocess(train_df,\n",
        "               test_df,\n",
        "               removed_column = [None],\n",
        "               categorical_columns=[\"Band Name\",\"Band Genre\",\"Band Country of Origin\",\"Concert ID\",\"Inside Venue\",\"Rain\",\n",
        "                                    \"Seated\",\"Concert Goer ID\",\"Concert Goer Country of Origin\"],\n",
        "               numerical_columns=[\"Band Debut\",\"Concert Attendance\",\"Personnality Trait 1\",\"Personnality Trait 2\",\"Personnality Trait 3\",\n",
        "                                  \"Personnality Trait 4\",\"Concert Goer Age\",\"Height (cm)\"]):\n",
        "    \"\"\" Generates a preprocessed sparse matrix using one-hot encoding for categorical and min-max for numerical features.\n",
        "\n",
        "    Args:\n",
        "        train_df (pd.DataFrame): the training DataFrame, used for standardization values.\n",
        "        train_df (pd.DataFrame): the testing DataFrame, the DataFrame we want to preprocess\n",
        "        removed_column (list): the list of columns we want to ignore\n",
        "        categorical_columns (list) : the list of categorical features name\n",
        "        numerical_columns (list) : the list of numerical features name\n",
        "\n",
        "    Returns:\n",
        "        preprocessed matrix (sparse.csr_matrix): the preprocessed test_df\n",
        "    \"\"\"\n",
        "    # Transforms categorical columns with one hot encoding\n",
        "    encoder = OneHotEncoder()\n",
        "    columns = [column for column in categorical_columns if column not in removed_column]\n",
        "    encoder.fit(train_df[columns])\n",
        "\n",
        "    # Transforms numerical columns with min-max\n",
        "    columns_b = [column for column in numerical_columns if column not in removed_column]\n",
        "    e_test = test_df[columns_b]\n",
        "    e_train = train_df[columns_b]\n",
        "    e_test = (e_test - e_train.min(axis=0))/(e_train.max(axis=0)-e_train.min(axis=0))\n",
        "\n",
        "    # Concatenates features in a sparse matrix\n",
        "    preprocessed_matrix = sparse.hstack([encoder.transform(test_df[columns]),sparse.csr_matrix(e_test)])\n",
        "    preprocessed_matrix = sparse.csr_matrix(preprocessed_matrix)\n",
        "    return preprocessed_matrix"
      ]
    },
    {
      "cell_type": "code",
      "execution_count": null,
      "metadata": {
        "id": "he-CU8dw_xAk"
      },
      "outputs": [],
      "source": [
        "from sklearn.linear_model import LogisticRegression\n",
        "from sklearn.linear_model import LinearRegression\n",
        "from sklearn.tree import DecisionTreeClassifier"
      ]
    },
    {
      "cell_type": "code",
      "execution_count": null,
      "metadata": {
        "id": "ernbIXdl_f9u"
      },
      "outputs": [],
      "source": [
        "# Imputes the missing values of the given column\n",
        "def impute_nan(column,model,droped_columns=[],df=df):\n",
        "    \"\"\" Imputes a part of the missing values of a given column using a given model and all other columns not in droped_columns\n",
        "        More precisely, imputes the missing values in column for rows were other missing values are in droped_columns.\n",
        "    Args:\n",
        "        column (str): the name of the column with missing data to impute\n",
        "        model (categorical classifier model or sklearn.linear_model.LinearRegression): model used to predict the missing value\n",
        "        droped_columns (list): the list of columns we want to ignore\n",
        "        df (pd.DataFrame) : the DataFrame we want to modify\n",
        "\n",
        "    Returns:\n",
        "        None\n",
        "    \"\"\"\n",
        "    # Computes set used to predict missing values\n",
        "    X_test = df.loc[(df.isnull().sum(axis=1)==1+len(droped_columns)) & (df[[column]+droped_columns].isnull().sum(axis=1)==1+len(droped_columns))]\n",
        "    X_test = preprocess(train_df = df.dropna(), test_df = X_test,removed_column=[column]+droped_columns)\n",
        "\n",
        "    # Computes training and validation sets for the prediction task\n",
        "    X_train, X_val, y_train, y_val = train_test_split(df.dropna(),df.dropna()[column],test_size=0.1, random_state=0)\n",
        "    X_val = preprocess(X_train,X_val,[column]+droped_columns)\n",
        "    X_train = preprocess(X_train,X_train,[column]+droped_columns)\n",
        "\n",
        "\n",
        "    if column in ['Inside Venue','Rain','Seated']:\n",
        "      y_train = y_train.astype(bool)\n",
        "      y_val = y_val.astype(bool)\n",
        "\n",
        "    # Trains the model\n",
        "    model.fit(X_train,y_train)\n",
        "\n",
        "    # Tests the model on the validation set and prints the bad results (score < 0.90)\n",
        "    pred_val = model.predict(X_val)\n",
        "    if type(model)==LinearRegression:\n",
        "      score = model.score(X_val,pred_val)\n",
        "      if score<0.9:\n",
        "        print(f\"coefficient of determination for {column} imputation : {score} with removed columns : {droped_columns}\")\n",
        "    else:\n",
        "      score = f1_score(y_val,pred_val,average='micro')\n",
        "      if score<0.9:\n",
        "        print(f\"f1 validation score for {column} imputation : {score} with removed columns : {droped_columns}\")\n",
        "\n",
        "    # Modifies the DataFrame with prediction\n",
        "    pred = model.predict(X_test)\n",
        "    df.loc[(df.isnull().sum(axis=1)==1+len(droped_columns)) & (df[[column]+droped_columns].isnull().sum(axis=1)==1+len(droped_columns)),column] = pred\n",
        "    return"
      ]
    },
    {
      "cell_type": "code",
      "execution_count": null,
      "metadata": {
        "colab": {
          "base_uri": "https://localhost:8080/"
        },
        "id": "oNDD4XKmlWS4",
        "outputId": "0333e0b5-7904-47f2-ed2a-de17fd963445"
      },
      "outputs": [
        {
          "name": "stdout",
          "output_type": "stream",
          "text": [
            "Number of rows with 0 missing values : 183160\n",
            "Number of rows with 1 missing values : 16168\n",
            "Number of rows with 2 missing values : 655\n",
            "Number of rows with 3 missing values : 17\n",
            "Number of rows with at least 4 missing values : 0\n"
          ]
        }
      ],
      "source": [
        "# Checks the missing values\n",
        "def check_na(df):\n",
        "  for i in range(4):\n",
        "    print(f\"Number of rows with {i} missing values : {(df.isnull().sum(axis=1)==i).sum()}\")\n",
        "  print(f\"Number of rows with at least 4 missing values : {(df.isnull().sum(axis=1)>=4).sum()}\")\n",
        "\n",
        "check_na(df)"
      ]
    },
    {
      "cell_type": "code",
      "execution_count": null,
      "metadata": {
        "id": "q8_B67TaBT3I"
      },
      "outputs": [],
      "source": [
        "from itertools import combinations\n",
        "def impute(column,n_nan,model):\n",
        "    \"\"\" Imputes the missing values of column in all rows with n_nan missing values (including the missing value in column)\n",
        "    Args:\n",
        "        column (str): the name of the column with missing data to impute\n",
        "        n_nan (int): number of missing values in the rows we impute the missing value\n",
        "        model (categorical classifier model or sklearn.linear_model.LinearRegression): model used to predict the missing value\n",
        "    Returns:\n",
        "        None\n",
        "    \"\"\"\n",
        "    removed_columns_list = list(df.columns)\n",
        "    removed_columns_list.remove(column)\n",
        "    for removed_columns in combinations(removed_columns_list,n_nan-1):\n",
        "      if (df.loc[df.isnull().sum(axis=1)==n_nan][[column]+list(removed_columns)].isnull().sum(axis=1)==n_nan).sum() > 0:\n",
        "        impute_nan(column,model,list(removed_columns))\n",
        "    return"
      ]
    },
    {
      "cell_type": "code",
      "execution_count": null,
      "metadata": {
        "colab": {
          "base_uri": "https://localhost:8080/"
        },
        "id": "auufxjxN_z9P",
        "outputId": "ab128bb7-bc84-47f9-bde3-78d774254da4"
      },
      "outputs": [
        {
          "name": "stdout",
          "output_type": "stream",
          "text": [
            "f1 validation score for Band Name imputation : 0.8111487224284778 with removed columns : ['Concert ID', 'Personnality Trait 3']\n",
            "f1 validation score for Concert ID imputation : 0.5420943437431753 with removed columns : ['Inside Venue', 'Concert Goer Country of Origin']\n",
            "f1 validation score for Concert ID imputation : 0.7243939724830749 with removed columns : ['Personnality Trait 2', 'Concert Goer Age']\n",
            "f1 validation score for Seated imputation : 0.5026752566062459 with removed columns : ['Band Debut', 'Personnality Trait 1']\n",
            "f1 validation score for Seated imputation : 0.5104280410569993 with removed columns : ['Concert Attendance', 'Personnality Trait 3']\n",
            "f1 validation score for Seated imputation : 0.5004913736623717 with removed columns : ['Personnality Trait 2', 'Personnality Trait 4']\n",
            "Number of rows with 0 missing values : 183160\n",
            "Number of rows with 1 missing values : 16168\n",
            "Number of rows with 2 missing values : 672\n",
            "Number of rows with 3 missing values : 0\n",
            "Number of rows with at least 4 missing values : 0\n",
            "f1 validation score for Band Name imputation : 0.811858484385237 with removed columns : ['Concert ID']\n",
            "f1 validation score for Concert ID imputation : 0.7252675256606246 with removed columns : ['Band Debut']\n",
            "f1 validation score for Concert ID imputation : 0.19742301812622842 with removed columns : ['Concert Attendance']\n",
            "f1 validation score for Concert ID imputation : 0.5423673291111596 with removed columns : ['Inside Venue']\n",
            "f1 validation score for Concert ID imputation : 0.6148176457741865 with removed columns : ['Rain']\n",
            "f1 validation score for Concert ID imputation : 0.7213911334352479 with removed columns : ['Seated']\n",
            "f1 validation score for Concert ID imputation : 0.7222646866127975 with removed columns : ['Personnality Trait 1']\n",
            "f1 validation score for Concert ID imputation : 0.7244485695566718 with removed columns : ['Personnality Trait 2']\n",
            "f1 validation score for Concert ID imputation : 0.7223192836863944 with removed columns : ['Personnality Trait 3']\n",
            "f1 validation score for Concert ID imputation : 0.7275060056780956 with removed columns : ['Personnality Trait 4']\n",
            "f1 validation score for Concert ID imputation : 0.7241755841886874 with removed columns : ['Concert Goer Age']\n",
            "f1 validation score for Concert ID imputation : 0.7242301812622843 with removed columns : ['Concert Goer ID']\n",
            "f1 validation score for Concert ID imputation : 0.7234658222319282 with removed columns : ['Height (cm)']\n",
            "f1 validation score for Concert ID imputation : 0.7248307490718497 with removed columns : ['Concert Goer Country of Origin']\n",
            "f1 validation score for Seated imputation : 0.5066062459052195 with removed columns : ['Band Debut']\n",
            "f1 validation score for Seated imputation : 0.5020746887966805 with removed columns : ['Concert Attendance']\n",
            "f1 validation score for Seated imputation : 0.5073706049355754 with removed columns : ['Personnality Trait 1']\n",
            "f1 validation score for Seated imputation : 0.49787071412972267 with removed columns : ['Personnality Trait 2']\n",
            "f1 validation score for Seated imputation : 0.509008517143481 with removed columns : ['Personnality Trait 3']\n",
            "f1 validation score for Seated imputation : 0.503385018563005 with removed columns : ['Personnality Trait 4']\n",
            "f1 validation score for Seated imputation : 0.5020746887966805 with removed columns : ['Concert Goer Age']\n",
            "f1 validation score for Seated imputation : 0.507916575671544 with removed columns : ['Concert Goer ID']\n",
            "f1 validation score for Seated imputation : 0.5028936449006334 with removed columns : ['Height (cm)']\n",
            "f1 validation score for Seated imputation : 0.5072614107883817 with removed columns : ['Concert Goer Country of Origin']\n",
            "Number of rows with 0 missing values : 183160\n",
            "Number of rows with 1 missing values : 16840\n",
            "Number of rows with 2 missing values : 0\n",
            "Number of rows with 3 missing values : 0\n",
            "Number of rows with at least 4 missing values : 0\n",
            "f1 validation score for Concert ID imputation : 0.7225173024303879 with removed columns : []\n",
            "f1 validation score for Seated imputation : 0.5011624220648843 with removed columns : []\n",
            "Number of rows with 0 missing values : 200000\n",
            "Number of rows with 1 missing values : 0\n",
            "Number of rows with 2 missing values : 0\n",
            "Number of rows with 3 missing values : 0\n",
            "Number of rows with at least 4 missing values : 0\n"
          ]
        }
      ],
      "source": [
        "from sklearn.exceptions import ConvergenceWarning\n",
        "import warnings\n",
        "\n",
        "#Loops for all number of missing values in rows\n",
        "for i in [3,2,1]:\n",
        "  with warnings.catch_warnings():\n",
        "      warnings.filterwarnings(\"ignore\", category=ConvergenceWarning)\n",
        "      for column in categorical_columns:\n",
        "        if column in [\"Concert ID\",\"Concert Goer ID\",\"Seated\"]:\n",
        "          impute(column,i,DecisionTreeClassifier(max_depth=250))\n",
        "        else:\n",
        "          impute(column,i,LogisticRegression())\n",
        "  for column in numerical_columns:\n",
        "    impute(column,i,LinearRegression())\n",
        "\n",
        "  check_na(df)\n",
        "\n"
      ]
    },
    {
      "cell_type": "code",
      "execution_count": null,
      "metadata": {
        "id": "g7dwFfJgOYwe"
      },
      "outputs": [],
      "source": [
        "# Save Dataframe\n",
        "df.to_csv(\"imputed_df.csv\")"
      ]
    },
    {
      "cell_type": "markdown",
      "metadata": {
        "id": "_lrfX0RZa3zE"
      },
      "source": [
        "### 3. Basic Models - Baseline"
      ]
    },
    {
      "cell_type": "code",
      "execution_count": null,
      "metadata": {
        "id": "VdWxM6pJ3opE"
      },
      "outputs": [],
      "source": [
        "# from google.colab import drive\n",
        "# drive.mount('gdrive')\n",
        "# PATH = 'gdrive/MyDrive/Kaggle/'\n",
        "# train = pd.read_csv(PATH+'data/train.csv')\n",
        "# test = pd.read_csv(PATH+'data/test.csv')\n",
        "#df = pd.read_csv(PATH + \"imputed_df.csv\",index_col=0)"
      ]
    },
    {
      "cell_type": "code",
      "execution_count": null,
      "metadata": {
        "id": "2ffHn3kWa9Oa"
      },
      "outputs": [],
      "source": [
        "df_train = df.iloc[:170000]\n",
        "y_train = train[\"Concert Enjoyment\"]"
      ]
    },
    {
      "cell_type": "code",
      "execution_count": null,
      "metadata": {
        "id": "6rvaa51wuQvk"
      },
      "outputs": [],
      "source": [
        "X_train,X_val,y_train,y_val = train_test_split(df_train,y_train,test_size=0.2,random_state=0)\n",
        "X_val = preprocess(X_train,X_val)\n",
        "X_train = preprocess(X_train,X_train)"
      ]
    },
    {
      "cell_type": "markdown",
      "metadata": {
        "id": "85gIW9OXgbGj"
      },
      "source": [
        "#### a) Classifiers"
      ]
    },
    {
      "cell_type": "code",
      "execution_count": null,
      "metadata": {
        "colab": {
          "base_uri": "https://localhost:8080/",
          "height": 296
        },
        "id": "tDjGtpPLARY0",
        "outputId": "94ef60c2-4f78-4afd-8355-59ae8afdf7f7"
      },
      "outputs": [
        {
          "data": {
            "image/png": "[encoded data removed]",
            "text/plain": [
              "<Figure size 432x288 with 1 Axes>"
            ]
          },
          "metadata": {},
          "output_type": "display_data"
        },
        {
          "name": "stdout",
          "output_type": "stream",
          "text": [
            "best f1_score = 0.615735294117647 for alpha = 11\n"
          ]
        }
      ],
      "source": [
        "# Naive Bayes classifier for multinomial models\n",
        "\n",
        "from sklearn.naive_bayes import MultinomialNB\n",
        "import matplotlib.pyplot as plt\n",
        "\n",
        "res=[]\n",
        "alphas = [1,7,8,9,10,11,11,12,13,14,15,16,17,18,19,20,30]\n",
        "for alpha in alphas:\n",
        "  clf = MultinomialNB(alpha=alpha)\n",
        "  clf.fit(X_train, y_train)\n",
        "  pred = clf.predict(X_val)\n",
        "\n",
        "  res.append(f1_score(y_val, pred, average='micro'))\n",
        "\n",
        "plt.xlabel('alpha')\n",
        "plt.ylabel('f1')\n",
        "plt.plot(alphas,res)\n",
        "plt.show()\n",
        "\n",
        "print(f\"best f1_score = {np.max(res)} for alpha = {alphas[np.argmax(res)]}\")"
      ]
    },
    {
      "cell_type": "code",
      "execution_count": null,
      "metadata": {
        "colab": {
          "base_uri": "https://localhost:8080/",
          "height": 356
        },
        "id": "JcqecrBTAud9",
        "outputId": "60f9f62b-6eab-4c99-96c0-7da53ba75162"
      },
      "outputs": [
        {
          "name": "stderr",
          "output_type": "stream",
          "text": [
            "100%|██████████| 5/5 [07:36<00:00, 91.28s/it]\n"
          ]
        },
        {
          "data": {
            "text/plain": [
              "[<matplotlib.lines.Line2D at 0x7f43841909a0>]"
            ]
          },
          "execution_count": 41,
          "metadata": {},
          "output_type": "execute_result"
        },
        {
          "data": {
            "image/png": "[encoded data removed]",
            "text/plain": [
              "<Figure size 432x288 with 1 Axes>"
            ]
          },
          "metadata": {},
          "output_type": "display_data"
        }
      ],
      "source": [
        "# Logistic Regression\n",
        "\n",
        "from sklearn.linear_model import LogisticRegression\n",
        "from sklearn.exceptions import ConvergenceWarning\n",
        "import warnings\n",
        "from tqdm import tqdm\n",
        "\n",
        "with warnings.catch_warnings():\n",
        "    warnings.filterwarnings(\"ignore\", category=ConvergenceWarning)\n",
        "    Cs = [0.08,0.1, 0.15,0.5, 1]\n",
        "    max_iters = [50, 200, 300]\n",
        "\n",
        "    best_score = -np.inf\n",
        "    params = []\n",
        "    res = []\n",
        "    for C in tqdm(Cs):\n",
        "      for max_iter in max_iters:\n",
        "        params.append(f\"({C},{max_iter})\")\n",
        "        clf = LogisticRegression(C=C, max_iter=max_iter)\n",
        "        clf.fit(X_train,y_train)\n",
        "        pred = clf.predict(X_val)\n",
        "        score = f1_score(y_val, pred, average='micro')\n",
        "        res.append(score)\n",
        "        if score>best_score:\n",
        "          best_score=score\n",
        "          best_params = (C,max_iter)\n",
        "\n",
        "plt.xlabel('params')\n",
        "plt.ylabel('f1')\n",
        "plt.xticks(rotation=90)\n",
        "plt.plot(params,res)\n",
        "\n",
        "print(f\"best f1_score = {np.max(res)} for params = {best_params}\")"
      ]
    },
    {
      "cell_type": "code",
      "execution_count": null,
      "metadata": {
        "colab": {
          "base_uri": "https://localhost:8080/",
          "height": 315
        },
        "id": "wnx1XbFaOgV5",
        "outputId": "c977369e-5899-416b-c3ab-6f8002012638"
      },
      "outputs": [
        {
          "name": "stderr",
          "output_type": "stream",
          "text": [
            "100%|██████████| 3/3 [18:14<00:00, 365.00s/it]\n"
          ]
        },
        {
          "data": {
            "image/png": "[encoded data removed]",
            "text/plain": [
              "<Figure size 432x288 with 1 Axes>"
            ]
          },
          "metadata": {},
          "output_type": "display_data"
        },
        {
          "name": "stdout",
          "output_type": "stream",
          "text": [
            "best f1_score = 0.6527647058823529 for alpha = 100\n"
          ]
        }
      ],
      "source": [
        "# Random Forest Classifier\n",
        "\n",
        "from sklearn.ensemble import RandomForestClassifier\n",
        "\n",
        "res=[]\n",
        "n_estimators_l=[10,50,100]\n",
        "for n_estimators in tqdm(n_estimators_l):\n",
        "  clf = RandomForestClassifier(n_estimators=n_estimators,random_state=0)\n",
        "  clf.fit(X_train, y_train)\n",
        "  pred = clf.predict(X_val)\n",
        "\n",
        "  res.append(f1_score(y_val, pred, average='micro'))\n",
        "\n",
        "plt.xlabel('n_estimators')\n",
        "plt.ylabel('f1')\n",
        "plt.plot(n_estimators_l,res)\n",
        "plt.show()\n",
        "\n",
        "print(f\"best f1_score = {np.max(res)} for n_estimators = {n_estimators_l[np.argmax(res)]}\")"
      ]
    },
    {
      "cell_type": "markdown",
      "metadata": {
        "id": "ExZb7ugdgWfI"
      },
      "source": [
        "#### b) Regressors\n",
        "\n"
      ]
    },
    {
      "cell_type": "markdown",
      "metadata": {
        "id": "T38xGmuZgiRR"
      },
      "source": [
        "The labels are ordered : Worst Concert Ever < Did Not Enjoy < Enjoyed < Best Concert Ever.\n",
        "\n",
        "Hence it could be a good idea to translate the labels to numerical values and to use regressor algorithms to create predictions."
      ]
    },
    {
      "cell_type": "code",
      "execution_count": null,
      "metadata": {
        "colab": {
          "base_uri": "https://localhost:8080/",
          "height": 296
        },
        "id": "cc8b7uy4jwhk",
        "outputId": "ba0933eb-efe0-45b3-e8f4-cfa3206cd1ce"
      },
      "outputs": [
        {
          "data": {
            "image/png": "[encoded data removed]",
            "text/plain": [
              "<Figure size 432x288 with 1 Axes>"
            ]
          },
          "metadata": {},
          "output_type": "display_data"
        },
        {
          "name": "stdout",
          "output_type": "stream",
          "text": [
            "best f1_score = 0.6362941176470588 for alpha = 3.673469387755102\n"
          ]
        }
      ],
      "source": [
        "# Ridge Regression\n",
        "\n",
        "from sklearn.linear_model import Ridge\n",
        "mapper = {\"Worst Concert Ever\" : 0, \"Did Not Enjoy\" : 1, \"Enjoyed\" : 2, \"Best Concert Ever\" : 3}\n",
        "y_train_num = np.array(y_train.apply(lambda x : mapper[x]))\n",
        "y_val_num = np.array(y_val.apply(lambda x : mapper[x]))\n",
        "values=np.array(list(mapper.values()))\n",
        "\n",
        "alphas=np.linspace(0,15,50)\n",
        "res=[]\n",
        "for alpha in alphas:\n",
        "  regressor = Ridge(alpha=alpha)\n",
        "  regressor.fit(X_train,y_train_num)\n",
        "  num_pred = regressor.predict(X_val)\n",
        "  round_pred = values[np.argmin((num_pred.reshape(-1,1) - values)**2,axis=1)]\n",
        "  demaper = {mapper[i]:i for i in mapper}\n",
        "  pred = np.array([demaper[i] for i in round_pred])\n",
        "  res.append(f1_score(y_val, pred, average='micro'))\n",
        "\n",
        "plt.xlabel('alpha')\n",
        "plt.ylabel('f1')\n",
        "plt.plot(alphas,res)\n",
        "plt.show()\n",
        "\n",
        "print(f\"best f1_score = {np.max(res)} for alpha = {alphas[np.argmax(res)]}\")"
      ]
    },
    {
      "cell_type": "code",
      "execution_count": null,
      "metadata": {
        "colab": {
          "base_uri": "https://localhost:8080/",
          "height": 315
        },
        "id": "83vgEWmTDS7S",
        "outputId": "c4aff99b-4969-46be-d82a-6c4f351115fc"
      },
      "outputs": [
        {
          "name": "stderr",
          "output_type": "stream",
          "text": [
            "100%|██████████| 3/3 [45:29<00:00, 909.98s/it] \n"
          ]
        },
        {
          "data": {
            "image/png": "[encoded data removed]",
            "text/plain": [
              "<Figure size 432x288 with 1 Axes>"
            ]
          },
          "metadata": {},
          "output_type": "display_data"
        },
        {
          "name": "stdout",
          "output_type": "stream",
          "text": [
            "best f1_score = 0.6522058823529412 for alpha = 100\n"
          ]
        }
      ],
      "source": [
        "# Random Tree Regression\n",
        "from sklearn.ensemble import RandomForestRegressor\n",
        "from tqdm import tqdm\n",
        "mapper = {\"Worst Concert Ever\" : 0, \"Did Not Enjoy\" : 1, \"Enjoyed\" : 2, \"Best Concert Ever\" : 3}\n",
        "y_train_num = np.array(y_train.apply(lambda x : mapper[x]))\n",
        "y_val_num = np.array(y_val.apply(lambda x : mapper[x]))\n",
        "values=np.array(list(mapper.values()))\n",
        "\n",
        "n_estimators_l=[10,50,100]\n",
        "res=[]\n",
        "for n_estimators in tqdm(n_estimators_l):\n",
        "  regressor = RandomForestRegressor(n_estimators=n_estimators,random_state=0)\n",
        "  regressor.fit(X_train,y_train_num)\n",
        "  num_pred = regressor.predict(X_val)\n",
        "  round_pred = values[np.argmin((num_pred.reshape(-1,1) - values)**2,axis=1)]\n",
        "  demaper = {mapper[i]:i for i in mapper}\n",
        "  pred = np.array([demaper[i] for i in round_pred])\n",
        "  res.append(f1_score(y_val, pred, average='micro'))\n",
        "\n",
        "plt.xlabel('n_estimators')\n",
        "plt.ylabel('f1')\n",
        "plt.plot(n_estimators_l,res)\n",
        "plt.show()\n",
        "\n",
        "print(f\"best f1_score = {np.max(res)} for alpha = {n_estimators_l[np.argmax(res)]}\")"
      ]
    },
    {
      "cell_type": "markdown",
      "metadata": {
        "id": "bXYuY1AkbAKu"
      },
      "source": [
        "### 4. Improvements"
      ]
    },
    {
      "cell_type": "markdown",
      "metadata": {
        "id": "ORjISTfTEtYR"
      },
      "source": [
        "#### a) Using a better model"
      ]
    },
    {
      "cell_type": "markdown",
      "metadata": {
        "id": "eLlKFPprPymS"
      },
      "source": [
        "We reached a better score using regression over mutli-classification, and using random forests over linear regression.\n",
        "\n",
        "But Random Forest is long to train and it is difficult to reach f1_score over 66%.\n",
        "\n",
        "To improve our results, we will use a regressor using gradient boosting, more precisely the one from catboost libreary as it's supposed to be well designed for high number of features."
      ]
    },
    {
      "cell_type": "code",
      "execution_count": null,
      "metadata": {
        "id": "Lxkh_shgUHVx"
      },
      "outputs": [],
      "source": [
        "df_train = df.iloc[:170000]\n",
        "df_test = df.iloc[170000:]\n",
        "X_test = preprocess(df_train,df_test)\n",
        "X_train = preprocess(df_train,df_train)\n",
        "\n",
        "y_train = train[\"Concert Enjoyment\"]"
      ]
    },
    {
      "cell_type": "code",
      "execution_count": null,
      "metadata": {
        "colab": {
          "base_uri": "https://localhost:8080/"
        },
        "id": "0QvtjWgB2ell",
        "outputId": "c3d69029-646d-4d86-9398-f6c3ed88e073"
      },
      "outputs": [
        {
          "name": "stdout",
          "output_type": "stream",
          "text": [
            "Looking in indexes: https://pypi.org/simple, https://us-python.pkg.dev/colab-wheels/public/simple/\n",
            "Collecting catboost\n",
            "  Downloading catboost-1.1.1-cp38-none-manylinux1_x86_64.whl (76.6 MB)\n",
            "\u001b[K     |████████████████████████████████| 76.6 MB 1.2 MB/s \n",
            "\u001b[?25hRequirement already satisfied: six in /usr/local/lib/python3.8/dist-packages (from catboost) (1.15.0)\n",
            "Requirement already satisfied: scipy in /usr/local/lib/python3.8/dist-packages (from catboost) (1.7.3)\n",
            "Requirement already satisfied: pandas>=0.24.0 in /usr/local/lib/python3.8/dist-packages (from catboost) (1.3.5)\n",
            "Requirement already satisfied: plotly in /usr/local/lib/python3.8/dist-packages (from catboost) (5.5.0)\n",
            "Requirement already satisfied: matplotlib in /usr/local/lib/python3.8/dist-packages (from catboost) (3.2.2)\n",
            "Requirement already satisfied: graphviz in /usr/local/lib/python3.8/dist-packages (from catboost) (0.10.1)\n",
            "Requirement already satisfied: numpy>=1.16.0 in /usr/local/lib/python3.8/dist-packages (from catboost) (1.21.6)\n",
            "Requirement already satisfied: python-dateutil>=2.7.3 in /usr/local/lib/python3.8/dist-packages (from pandas>=0.24.0->catboost) (2.8.2)\n",
            "Requirement already satisfied: pytz>=2017.3 in /usr/local/lib/python3.8/dist-packages (from pandas>=0.24.0->catboost) (2022.6)\n",
            "Requirement already satisfied: cycler>=0.10 in /usr/local/lib/python3.8/dist-packages (from matplotlib->catboost) (0.11.0)\n",
            "Requirement already satisfied: kiwisolver>=1.0.1 in /usr/local/lib/python3.8/dist-packages (from matplotlib->catboost) (1.4.4)\n",
            "Requirement already satisfied: pyparsing!=2.0.4,!=2.1.2,!=2.1.6,>=2.0.1 in /usr/local/lib/python3.8/dist-packages (from matplotlib->catboost) (3.0.9)\n",
            "Requirement already satisfied: tenacity>=6.2.0 in /usr/local/lib/python3.8/dist-packages (from plotly->catboost) (8.1.0)\n",
            "Installing collected packages: catboost\n",
            "Successfully installed catboost-1.1.1\n"
          ]
        }
      ],
      "source": [
        "!pip install catboost"
      ]
    },
    {
      "cell_type": "code",
      "execution_count": null,
      "metadata": {
        "id": "swJmqqjXbGQy"
      },
      "outputs": [],
      "source": [
        "from catboost import CatBoostRegressor"
      ]
    },
    {
      "cell_type": "code",
      "execution_count": null,
      "metadata": {
        "id": "iLUoqWGK2lfo"
      },
      "outputs": [],
      "source": [
        "mapper = {\"Worst Concert Ever\" : 0, \"Did Not Enjoy\" : 1, \"Enjoyed\" : 2, \"Best Concert Ever\" : 3}\n",
        "\n",
        "# Class building classifier from CatBoostRegressor\n",
        "class CustomRegressor(CatBoostRegressor):\n",
        "  def fit(self,X,y):\n",
        "    y_num = np.array(y.apply(lambda x : mapper[x]))\n",
        "    super().fit(X,y_num)\n",
        "  def predict(self,X):\n",
        "    num_pred = super().predict(X)\n",
        "    values=np.array(list(mapper.values()))\n",
        "    round_pred = values[np.argmin((num_pred.reshape(-1,1) - values)**2,axis=1)]\n",
        "    demaper = {mapper[i]:i for i in mapper}\n",
        "    pred = np.array([demaper[i] for i in round_pred])\n",
        "    return pred"
      ]
    },
    {
      "cell_type": "code",
      "execution_count": null,
      "metadata": {
        "colab": {
          "base_uri": "https://localhost:8080/"
        },
        "id": "OkjRgCDPumwo",
        "outputId": "02740110-9425-4939-c3b0-cefafb4303a2"
      },
      "outputs": [
        {
          "name": "stdout",
          "output_type": "stream",
          "text": [
            "Fitting 5 folds for each of 3 candidates, totalling 15 fits\n",
            "[CV 1/5; 1/3] START learning_rate=0.1, n_estimators=9000, random_seed=0, subsample=0.8, verbose=0\n",
            "[CV 1/5; 1/3] END learning_rate=0.1, n_estimators=9000, random_seed=0, subsample=0.8, verbose=0;, score=0.703 total time= 4.7min\n",
            "[CV 2/5; 1/3] START learning_rate=0.1, n_estimators=9000, random_seed=0, subsample=0.8, verbose=0\n",
            "[CV 2/5; 1/3] END learning_rate=0.1, n_estimators=9000, random_seed=0, subsample=0.8, verbose=0;, score=0.697 total time= 4.6min\n",
            "[CV 3/5; 1/3] START learning_rate=0.1, n_estimators=9000, random_seed=0, subsample=0.8, verbose=0\n",
            "[CV 3/5; 1/3] END learning_rate=0.1, n_estimators=9000, random_seed=0, subsample=0.8, verbose=0;, score=0.702 total time= 4.5min\n",
            "[CV 4/5; 1/3] START learning_rate=0.1, n_estimators=9000, random_seed=0, subsample=0.8, verbose=0\n",
            "[CV 4/5; 1/3] END learning_rate=0.1, n_estimators=9000, random_seed=0, subsample=0.8, verbose=0;, score=0.699 total time= 4.5min\n",
            "[CV 5/5; 1/3] START learning_rate=0.1, n_estimators=9000, random_seed=0, subsample=0.8, verbose=0\n",
            "[CV 5/5; 1/3] END learning_rate=0.1, n_estimators=9000, random_seed=0, subsample=0.8, verbose=0;, score=0.703 total time= 4.5min\n",
            "[CV 1/5; 2/3] START learning_rate=0.1, n_estimators=10000, random_seed=0, subsample=0.8, verbose=0\n",
            "[CV 1/5; 2/3] END learning_rate=0.1, n_estimators=10000, random_seed=0, subsample=0.8, verbose=0;, score=0.702 total time= 5.0min\n",
            "[CV 2/5; 2/3] START learning_rate=0.1, n_estimators=10000, random_seed=0, subsample=0.8, verbose=0\n",
            "[CV 2/5; 2/3] END learning_rate=0.1, n_estimators=10000, random_seed=0, subsample=0.8, verbose=0;, score=0.697 total time= 5.1min\n",
            "[CV 3/5; 2/3] START learning_rate=0.1, n_estimators=10000, random_seed=0, subsample=0.8, verbose=0\n",
            "[CV 3/5; 2/3] END learning_rate=0.1, n_estimators=10000, random_seed=0, subsample=0.8, verbose=0;, score=0.702 total time= 5.1min\n",
            "[CV 4/5; 2/3] START learning_rate=0.1, n_estimators=10000, random_seed=0, subsample=0.8, verbose=0\n",
            "[CV 4/5; 2/3] END learning_rate=0.1, n_estimators=10000, random_seed=0, subsample=0.8, verbose=0;, score=0.699 total time= 5.0min\n",
            "[CV 5/5; 2/3] START learning_rate=0.1, n_estimators=10000, random_seed=0, subsample=0.8, verbose=0\n",
            "[CV 5/5; 2/3] END learning_rate=0.1, n_estimators=10000, random_seed=0, subsample=0.8, verbose=0;, score=0.703 total time= 5.0min\n",
            "[CV 1/5; 3/3] START learning_rate=0.1, n_estimators=11000, random_seed=0, subsample=0.8, verbose=0\n",
            "[CV 1/5; 3/3] END learning_rate=0.1, n_estimators=11000, random_seed=0, subsample=0.8, verbose=0;, score=0.703 total time= 5.6min\n",
            "[CV 2/5; 3/3] START learning_rate=0.1, n_estimators=11000, random_seed=0, subsample=0.8, verbose=0\n",
            "[CV 2/5; 3/3] END learning_rate=0.1, n_estimators=11000, random_seed=0, subsample=0.8, verbose=0;, score=0.696 total time= 5.6min\n",
            "[CV 3/5; 3/3] START learning_rate=0.1, n_estimators=11000, random_seed=0, subsample=0.8, verbose=0\n",
            "[CV 3/5; 3/3] END learning_rate=0.1, n_estimators=11000, random_seed=0, subsample=0.8, verbose=0;, score=0.703 total time= 5.5min\n",
            "[CV 4/5; 3/3] START learning_rate=0.1, n_estimators=11000, random_seed=0, subsample=0.8, verbose=0\n",
            "[CV 4/5; 3/3] END learning_rate=0.1, n_estimators=11000, random_seed=0, subsample=0.8, verbose=0;, score=0.699 total time= 5.6min\n",
            "[CV 5/5; 3/3] START learning_rate=0.1, n_estimators=11000, random_seed=0, subsample=0.8, verbose=0\n",
            "[CV 5/5; 3/3] END learning_rate=0.1, n_estimators=11000, random_seed=0, subsample=0.8, verbose=0;, score=0.704 total time= 5.4min\n",
            "\n",
            "Best f1_score : 0.7008117647058825 using parameters : {'learning_rate': 0.1, 'n_estimators': 11000, 'random_seed': 0, 'subsample': 0.8, 'verbose': 0}\n"
          ]
        }
      ],
      "source": [
        "regressor = CustomRegressor()\n",
        "\n",
        "clf = GridSearchCV(regressor,{\"n_estimators\":[9000,10000,11000],\"learning_rate\":[0.1],\"subsample\":[0.8],\"random_seed\":[0],\"verbose\":[0]},verbose=10,scoring='f1_micro')\n",
        "clf.fit(X_train,y_train)\n",
        "\n",
        "print()\n",
        "print(f\"Best f1_score : {clf.best_score_} using parameters : {clf.best_params_}\")"
      ]
    },
    {
      "cell_type": "code",
      "execution_count": null,
      "metadata": {
        "id": "YQ83aWV6dW2C"
      },
      "outputs": [],
      "source": [
        "clf = CustomRegressor(n_estimators=11000,learning_rate=0.1,subsample=0.8,random_seed=0,verbose=0)\n",
        "clf.fit(X_train,y_train)\n"
      ]
    },
    {
      "cell_type": "code",
      "execution_count": null,
      "metadata": {
        "id": "mNVvdb8-R_ko"
      },
      "outputs": [],
      "source": [
        "def form_pred(pred):\n",
        "  res =  pd.DataFrame(pred,columns=['Predicted'])\n",
        "  res = pd.concat([test,res],axis=1)[[\"Id\",\"Predicted\"]]\n",
        "  return res"
      ]
    },
    {
      "cell_type": "code",
      "execution_count": null,
      "metadata": {
        "colab": {
          "base_uri": "https://localhost:8080/",
          "height": 423
        },
        "id": "S59hdgGZ1JM4",
        "outputId": "943b4b6d-d908-4d02-9bc1-ea4e2aa9ef10"
      },
      "outputs": [
        {
          "data": {
            "text/html": [
              "\n",
              "  <div id=\"df-6602d2b7-505d-40e6-8e84-f92bf1d97466\">\n",
              "    <div class=\"colab-df-container\">\n",
              "      <div>\n",
              "<style scoped>\n",
              "    .dataframe tbody tr th:only-of-type {\n",
              "        vertical-align: middle;\n",
              "    }\n",
              "\n",
              "    .dataframe tbody tr th {\n",
              "        vertical-align: top;\n",
              "    }\n",
              "\n",
              "    .dataframe thead th {\n",
              "        text-align: right;\n",
              "    }\n",
              "</style>\n",
              "<table border=\"1\" class=\"dataframe\">\n",
              "  <thead>\n",
              "    <tr style=\"text-align: right;\">\n",
              "      <th></th>\n",
              "      <th>Id</th>\n",
              "      <th>Predicted</th>\n",
              "    </tr>\n",
              "  </thead>\n",
              "  <tbody>\n",
              "    <tr>\n",
              "      <th>0</th>\n",
              "      <td>ConcertExperience_70055</td>\n",
              "      <td>Enjoyed</td>\n",
              "    </tr>\n",
              "    <tr>\n",
              "      <th>1</th>\n",
              "      <td>ConcertExperience_34799</td>\n",
              "      <td>Enjoyed</td>\n",
              "    </tr>\n",
              "    <tr>\n",
              "      <th>2</th>\n",
              "      <td>ConcertExperience_100410</td>\n",
              "      <td>Enjoyed</td>\n",
              "    </tr>\n",
              "    <tr>\n",
              "      <th>3</th>\n",
              "      <td>ConcertExperience_106446</td>\n",
              "      <td>Did Not Enjoy</td>\n",
              "    </tr>\n",
              "    <tr>\n",
              "      <th>4</th>\n",
              "      <td>ConcertExperience_127249</td>\n",
              "      <td>Did Not Enjoy</td>\n",
              "    </tr>\n",
              "    <tr>\n",
              "      <th>...</th>\n",
              "      <td>...</td>\n",
              "      <td>...</td>\n",
              "    </tr>\n",
              "    <tr>\n",
              "      <th>29995</th>\n",
              "      <td>ConcertExperience_82288</td>\n",
              "      <td>Did Not Enjoy</td>\n",
              "    </tr>\n",
              "    <tr>\n",
              "      <th>29996</th>\n",
              "      <td>ConcertExperience_27139</td>\n",
              "      <td>Did Not Enjoy</td>\n",
              "    </tr>\n",
              "    <tr>\n",
              "      <th>29997</th>\n",
              "      <td>ConcertExperience_197434</td>\n",
              "      <td>Best Concert Ever</td>\n",
              "    </tr>\n",
              "    <tr>\n",
              "      <th>29998</th>\n",
              "      <td>ConcertExperience_166029</td>\n",
              "      <td>Worst Concert Ever</td>\n",
              "    </tr>\n",
              "    <tr>\n",
              "      <th>29999</th>\n",
              "      <td>ConcertExperience_24025</td>\n",
              "      <td>Did Not Enjoy</td>\n",
              "    </tr>\n",
              "  </tbody>\n",
              "</table>\n",
              "<p>30000 rows × 2 columns</p>\n",
              "</div>\n",
              "      <button class=\"colab-df-convert\" onclick=\"convertToInteractive('df-6602d2b7-505d-40e6-8e84-f92bf1d97466')\"\n",
              "              title=\"Convert this dataframe to an interactive table.\"\n",
              "              style=\"display:none;\">\n",
              "        \n",
              "  <svg xmlns=\"http://www.w3.org/2000/svg\" height=\"24px\"viewBox=\"0 0 24 24\"\n",
              "       width=\"24px\">\n",
              "    <path d=\"M0 0h24v24H0V0z\" fill=\"none\"/>\n",
              "    <path d=\"M18.56 5.44l.94 2.06.94-2.06 2.06-.94-2.06-.94-.94-2.06-.94 2.06-2.06.94zm-11 1L8.5 8.5l.94-2.06 2.06-.94-2.06-.94L8.5 2.5l-.94 2.06-2.06.94zm10 10l.94 2.06.94-2.06 2.06-.94-2.06-.94-.94-2.06-.94 2.06-2.06.94z\"/><path d=\"M17.41 7.96l-1.37-1.37c-.4-.4-.92-.59-1.43-.59-.52 0-1.04.2-1.43.59L10.3 9.45l-7.72 7.72c-.78.78-.78 2.05 0 2.83L4 21.41c.39.39.9.59 1.41.59.51 0 1.02-.2 1.41-.59l7.78-7.78 2.81-2.81c.8-.78.8-2.07 0-2.86zM5.41 20L4 18.59l7.72-7.72 1.47 1.35L5.41 20z\"/>\n",
              "  </svg>\n",
              "      </button>\n",
              "      \n",
              "  <style>\n",
              "    .colab-df-container {\n",
              "      display:flex;\n",
              "      flex-wrap:wrap;\n",
              "      gap: 12px;\n",
              "    }\n",
              "\n",
              "    .colab-df-convert {\n",
              "      background-color: #E8F0FE;\n",
              "      border: none;\n",
              "      border-radius: 50%;\n",
              "      cursor: pointer;\n",
              "      display: none;\n",
              "      fill: #1967D2;\n",
              "      height: 32px;\n",
              "      padding: 0 0 0 0;\n",
              "      width: 32px;\n",
              "    }\n",
              "\n",
              "    .colab-df-convert:hover {\n",
              "      background-color: #E2EBFA;\n",
              "      box-shadow: 0px 1px 2px rgba(60, 64, 67, 0.3), 0px 1px 3px 1px rgba(60, 64, 67, 0.15);\n",
              "      fill: #174EA6;\n",
              "    }\n",
              "\n",
              "    [theme=dark] .colab-df-convert {\n",
              "      background-color: #3B4455;\n",
              "      fill: #D2E3FC;\n",
              "    }\n",
              "\n",
              "    [theme=dark] .colab-df-convert:hover {\n",
              "      background-color: #434B5C;\n",
              "      box-shadow: 0px 1px 3px 1px rgba(0, 0, 0, 0.15);\n",
              "      filter: drop-shadow(0px 1px 2px rgba(0, 0, 0, 0.3));\n",
              "      fill: #FFFFFF;\n",
              "    }\n",
              "  </style>\n",
              "\n",
              "      <script>\n",
              "        const buttonEl =\n",
              "          document.querySelector('#df-6602d2b7-505d-40e6-8e84-f92bf1d97466 button.colab-df-convert');\n",
              "        buttonEl.style.display =\n",
              "          google.colab.kernel.accessAllowed ? 'block' : 'none';\n",
              "\n",
              "        async function convertToInteractive(key) {\n",
              "          const element = document.querySelector('#df-6602d2b7-505d-40e6-8e84-f92bf1d97466');\n",
              "          const dataTable =\n",
              "            await google.colab.kernel.invokeFunction('convertToInteractive',\n",
              "                                                     [key], {});\n",
              "          if (!dataTable) return;\n",
              "\n",
              "          const docLinkHtml = 'Like what you see? Visit the ' +\n",
              "            '<a target=\"_blank\" href=https://colab.research.google.com/notebooks/data_table.ipynb>data table notebook</a>'\n",
              "            + ' to learn more about interactive tables.';\n",
              "          element.innerHTML = '';\n",
              "          dataTable['output_type'] = 'display_data';\n",
              "          await google.colab.output.renderOutput(dataTable, element);\n",
              "          const docLink = document.createElement('div');\n",
              "          docLink.innerHTML = docLinkHtml;\n",
              "          element.appendChild(docLink);\n",
              "        }\n",
              "      </script>\n",
              "    </div>\n",
              "  </div>\n",
              "  "
            ],
            "text/plain": [
              "                             Id           Predicted\n",
              "0       ConcertExperience_70055             Enjoyed\n",
              "1       ConcertExperience_34799             Enjoyed\n",
              "2      ConcertExperience_100410             Enjoyed\n",
              "3      ConcertExperience_106446       Did Not Enjoy\n",
              "4      ConcertExperience_127249       Did Not Enjoy\n",
              "...                         ...                 ...\n",
              "29995   ConcertExperience_82288       Did Not Enjoy\n",
              "29996   ConcertExperience_27139       Did Not Enjoy\n",
              "29997  ConcertExperience_197434   Best Concert Ever\n",
              "29998  ConcertExperience_166029  Worst Concert Ever\n",
              "29999   ConcertExperience_24025       Did Not Enjoy\n",
              "\n",
              "[30000 rows x 2 columns]"
            ]
          },
          "execution_count": 71,
          "metadata": {},
          "output_type": "execute_result"
        }
      ],
      "source": [
        "pred = clf.predict(X_test)\n",
        "formed_pred = form_pred(pred)\n",
        "formed_pred"
      ]
    },
    {
      "cell_type": "code",
      "execution_count": null,
      "metadata": {
        "id": "M8MUhcC7zQmo"
      },
      "outputs": [],
      "source": [
        "formed_pred.to_csv(\"Prediction7.csv\",index=False)"
      ]
    },
    {
      "cell_type": "markdown",
      "metadata": {
        "id": "g8tELKGdEoNY"
      },
      "source": [
        "#### b) Creating new features"
      ]
    },
    {
      "cell_type": "markdown",
      "metadata": {
        "id": "tgIb3CUcRUk-"
      },
      "source": [
        "Finally, we can try bringing creating new features in order to try improving our results more. We tried to add 3 kinds features :\n",
        "* The presence of similar words in the Band Names\n",
        "* Wether or not the country of origin of Concert Goers are english speaking countries\n",
        "* The continent of origin of Concert Goers."
      ]
    },
    {
      "cell_type": "code",
      "execution_count": null,
      "metadata": {
        "id": "ipBfH0oNBATF"
      },
      "outputs": [],
      "source": [
        "# from google.colab import drive\n",
        "# drive.mount('gdrive')\n",
        "# PATH = 'gdrive/MyDrive/Kaggle/'\n",
        "df = pd.read_csv(\"imputed_df (4).csv\",index_col=0)"
      ]
    },
    {
      "cell_type": "code",
      "execution_count": null,
      "metadata": {
        "colab": {
          "base_uri": "https://localhost:8080/"
        },
        "id": "AolIj-JpWUZd",
        "outputId": "459f5998-1c16-427a-9d8b-9502a8b59234"
      },
      "outputs": [
        {
          "data": {
            "text/plain": [
              "Band Name                           53\n",
              "Band Genre                           7\n",
              "Band Country of Origin               3\n",
              "Concert ID                        1000\n",
              "Inside Venue                         2\n",
              "Rain                                 2\n",
              "Seated                               2\n",
              "Concert Goer ID                   2000\n",
              "Concert Goer Country of Origin     152\n",
              "dtype: int64"
            ]
          },
          "execution_count": 46,
          "metadata": {},
          "output_type": "execute_result"
        }
      ],
      "source": [
        "df[categorical_columns].apply(lambda x:len(np.unique(x)))"
      ]
    },
    {
      "cell_type": "code",
      "execution_count": null,
      "metadata": {
        "colab": {
          "base_uri": "https://localhost:8080/"
        },
        "id": "qknyag0fYcV4",
        "outputId": "544ba0fe-1b11-441c-a318-478aa1eb26dc"
      },
      "outputs": [
        {
          "data": {
            "text/plain": [
              "Band Debut                min:1955.0, max:2014.0\n",
              "Concert Attendance      min:53.65, max:162754.27\n",
              "Personnality Trait 1         min:-3.12, max:3.63\n",
              "Personnality Trait 2         min:-4.41, max:3.86\n",
              "Personnality Trait 3         min:-3.28, max:3.31\n",
              "Personnality Trait 4         min:-3.29, max:3.83\n",
              "Concert Goer Age              min:16.0, max:76.0\n",
              "Height (cm)                 min:140.0, max:190.0\n",
              "dtype: object"
            ]
          },
          "execution_count": 47,
          "metadata": {},
          "output_type": "execute_result"
        }
      ],
      "source": [
        "df[numerical_columns].apply(lambda x:f\"min:{round(np.min(x),2)}, max:{round(np.max(x),2)}\")"
      ]
    },
    {
      "cell_type": "code",
      "execution_count": null,
      "metadata": {
        "colab": {
          "base_uri": "https://localhost:8080/"
        },
        "id": "CSihVze_-iLM",
        "outputId": "59ba5585-54b7-4213-9653-9aaa8bc83c23"
      },
      "outputs": [
        {
          "data": {
            "text/plain": [
              "array(['A Dozen Running Iced Frogs', 'Allo Knickers', 'Beyond Devon',\n",
              "       'Big Autumn', 'Big Division', 'Big Frogs Dream', 'Big Joystick',\n",
              "       'Crazy Crazy', 'Crazy Dream and a Pinch of Joystick',\n",
              "       'Crazy Frogs of Devon', 'Crazy Joystick Cult', 'Crazy Tooth',\n",
              "       'Crazyplay', 'Das Joystick', 'Devon Revival',\n",
              "       'Devon Thunder Thighs', 'Disciples Of Devon',\n",
              "       'Flight of the Knickers', 'Frogsica', \"It's My Joystick\",\n",
              "       'Joystick A Dozen', 'Joystick Army', 'Joystick Attack',\n",
              "       'Joystick for the Jockies', 'Joystick of the Big Knickers',\n",
              "       'King Blue', 'Knickers A Dozen', 'Knickers for the Jockies',\n",
              "       'Lord of the Crazy Frogs', 'My Heart, Your Thighs',\n",
              "       'Puddle of Joystick', 'Purely Blue', 'Ron Nor', 'Ron Talent',\n",
              "       \"Ron's Midnight Jockies\", 'Ronatron', 'Rubbish Devon Frogs',\n",
              "       'Running Twins', 'Running at the Disco',\n",
              "       'Running for the Crazy Woman', 'Running in Devon',\n",
              "       'Super Crazy Frogs', 'Taking Back Autumn',\n",
              "       'Teenage Crazy Blue Knickers', 'The Big Service',\n",
              "       'The Crazy Heroes of Devon', 'The Crazy R Experience',\n",
              "       'The Running Crazy Jockies', 'The Running Knickers',\n",
              "       'This Joystick', 'Twilight of the Joystick Gods',\n",
              "       'Undercover Joystick and the Crazy Knickers', 'Why Frogs, Why?'],\n",
              "      dtype=object)"
            ]
          },
          "execution_count": 48,
          "metadata": {},
          "output_type": "execute_result"
        }
      ],
      "source": [
        "np.unique(df[\"Band Name\"])"
      ]
    },
    {
      "cell_type": "code",
      "execution_count": null,
      "metadata": {
        "colab": {
          "base_uri": "https://localhost:8080/"
        },
        "id": "SH8k4xRcB7Sg",
        "outputId": "31f42980-e112-414a-9d94-3656a1b22d62"
      },
      "outputs": [
        {
          "name": "stderr",
          "output_type": "stream",
          "text": [
            "[nltk_data] Downloading package stopwords to /root/nltk_data...\n",
            "[nltk_data]   Package stopwords is already up-to-date!\n"
          ]
        },
        {
          "data": {
            "text/plain": [
              "['joystick',\n",
              " 'crazy',\n",
              " 'knickers',\n",
              " 'devon',\n",
              " 'running',\n",
              " 'frogs',\n",
              " 'big',\n",
              " 'jockies',\n",
              " 'dozen',\n",
              " 'blue']"
            ]
          },
          "execution_count": 49,
          "metadata": {},
          "output_type": "execute_result"
        }
      ],
      "source": [
        "from collections import Counter\n",
        "import nltk\n",
        "nltk.download('stopwords')\n",
        "from nltk.corpus import stopwords\n",
        "stopwords = stopwords.words('english')\n",
        "\n",
        "vocab = set(\" \".join(np.unique(df[\"Band Name\"])).lower().split(\" \"))\n",
        "word_count = Counter(\" \".join(np.unique(df[\"Band Name\"])).lower().split(\" \"))\n",
        "sorted_words = sorted([(word_count[word],word) for word in word_count if word_count[word]>2],reverse=True)\n",
        "frequent_words = [t[1] for t in sorted_words]\n",
        "filtered = []\n",
        "for word in frequent_words:\n",
        "  if word not in stopwords:\n",
        "    filtered.append(word)\n",
        "filtered"
      ]
    },
    {
      "cell_type": "code",
      "execution_count": null,
      "metadata": {
        "id": "pjeriS-wJNv9"
      },
      "outputs": [],
      "source": [
        "for word in filtered:\n",
        "  df[word] = df[\"Band Name\"].apply(lambda x:1 if word in x.lower().split(\" \") else 0)"
      ]
    },
    {
      "cell_type": "code",
      "execution_count": null,
      "metadata": {
        "id": "okgYkZ_rNAfW"
      },
      "outputs": [],
      "source": [
        "engl = [\"Antigua and Barbuda\",\"Australia\",\"Bahamas\",\"Barbados\",\"Belize\",\"Canada\",\"Dominican Republic\",\"Grenada\",\"Ireland\",\"Jamaica\",\"Malta\",\"New Zealand\",\"Saint Lucia\",\"Trinidad and Tobago\",\"United Kingdom (UK)\",\"United States of America (USA)\"]\n",
        "df[\"Eng\"] = df[\"Concert Goer Country of Origin\"].apply(lambda x:x in engl)"
      ]
    },
    {
      "cell_type": "code",
      "execution_count": null,
      "metadata": {
        "colab": {
          "base_uri": "https://localhost:8080/"
        },
        "id": "xJNQCqCd5Im1",
        "outputId": "eb7b11a6-92df-42b2-99e8-9dd72998b405"
      },
      "outputs": [
        {
          "data": {
            "text/plain": [
              "array(['Africa', 'Asia', 'Europe', 'North_America', 'Oceania',\n",
              "       'South_America'], dtype=object)"
            ]
          },
          "execution_count": 52,
          "metadata": {},
          "output_type": "execute_result"
        }
      ],
      "source": [
        "North_America = ['Antigua and Barbuda', 'Bahamas', 'Barbados', 'Belize', 'Canada',\n",
        "       'Costa Rica', 'Dominican Republic', 'El Salvador', 'Grenada',\n",
        "       'Haiti', 'Honduras', 'Jamaica', 'Panama', 'Saint Lucia',\n",
        "       'United States of America (USA)']\n",
        "South_America = ['Argentina', 'Bolivia', 'Brazil', 'Chile', 'Ecuador', 'Paraguay',\n",
        "       'Paraguay', 'Peru', 'Suriname', 'Trinidad and Tobago']\n",
        "Europe = ['Albania', 'Andorra', 'Austria', 'Belgium',\n",
        "       'Bosnia and Herzegovina', 'Bulgaria', 'Croatia', 'Cyprus',\n",
        "       'Czechia', 'Denmark', 'Estonia', 'Finland', 'France', 'Germany',\n",
        "       'Greece', 'Iceland', 'Ireland', 'Kosovo', 'Latvia',\n",
        "       'Liechtenstein', 'Lithuania', 'Luxembourg', 'Malta', 'Moldova',\n",
        "       'Monaco', 'Montenegro', 'Netherlands', 'Norway', 'Poland',\n",
        "       'Portugal', 'Romania', 'Serbia', 'Slovakia', 'Slovenia', 'Spain',\n",
        "       'Sweden', 'Switzerland', 'United Kingdom (UK)',\n",
        "       'Vatican City (Holy See)']\n",
        "Africa = ['Algeria', 'Angola', 'Botswana', 'Burkina Faso', 'Burundi',\n",
        "       'Cabo Verde', 'Cameroon', 'Central African Republic (CAR)', 'Chad',\n",
        "       'Comoros', 'Congo, Democratic Republic of the', \"Cote d'Ivoire\",\n",
        "       'Djibouti', 'Equatorial Guinea', 'Eswatini', 'Gambia', 'Ghana',\n",
        "       'Guinea-Bissau', 'Kenya', 'Lesotho', 'Liberia', 'Madagascar',\n",
        "       'Malawi', 'Mali', 'Mauritania', 'Mozambique', 'Namibia', 'Niger',\n",
        "       'Nigeria', 'Rwanda', 'Sao Tome and Principe', 'Senegal',\n",
        "       'Seychelles', 'Sierra Leone', 'Somalia', 'South Africa',\n",
        "       'South Sudan', 'Sudan', 'Tanzania', 'Tunisia', 'Uganda', 'Zambia',\n",
        "       'Zimbabwe']\n",
        "Asia = ['Azerbaijan', 'Bahrain', 'Bhutan', 'China', 'Georgia', 'India',\n",
        "       'Indonesia', 'Iraq', 'Israel', 'Japan', 'Jordan', 'Kazakhstan',\n",
        "       'Kuwait', 'Kyrgyzstan', 'Laos', 'Lebanon', 'Malaysia', 'Maldives',\n",
        "       'Myanmar', 'Nepal', 'North Korea', 'Palestine', 'Philippines',\n",
        "       'Russia', 'Saudi Arabia', 'Singapore', 'Sri Lanka', 'Taiwan',\n",
        "       'Thailand', 'Timor-Leste', 'Turkey', 'United Arab Emirates (UAE)',\n",
        "       'Uzbekistan', 'Vietnam', 'Yemen']\n",
        "Oceania = ['Australia', 'Fiji', 'Micronesia', 'Nauru', 'New Zealand', 'Palau',\n",
        "       'Papua New Guinea', 'Samoa', 'Solomon Islands', 'Tonga', 'Vanuatu']\n",
        "\n",
        "\n",
        "country_to_continent = {}\n",
        "for country in North_America:\n",
        "  country_to_continent[country] = 'North_America'\n",
        "for country in South_America:\n",
        "  country_to_continent[country] = 'South_America'\n",
        "for country in Europe:\n",
        "  country_to_continent[country] = 'Europe'\n",
        "for country in Africa:\n",
        "  country_to_continent[country] = 'Africa'\n",
        "for country in Asia:\n",
        "  country_to_continent[country] = 'Asia'\n",
        "for country in Oceania:\n",
        "  country_to_continent[country] = 'Oceania'\n",
        "\n",
        "df[\"Continent\"] = df[\"Concert Goer Country of Origin\"].apply(lambda x:country_to_continent[x])\n",
        "\n",
        "np.unique(df[\"Continent\"])"
      ]
    },
    {
      "cell_type": "code",
      "execution_count": null,
      "metadata": {
        "id": "A_MQ3ZD1BATG"
      },
      "outputs": [],
      "source": [
        "df_train = df.iloc[:170000]\n",
        "df_test = df.iloc[170000:]"
      ]
    },
    {
      "cell_type": "code",
      "execution_count": null,
      "metadata": {
        "id": "NsOzVobcBATG"
      },
      "outputs": [],
      "source": [
        "X_test = preprocess(df_train,df_test,categorical_columns=[\"Band Name\",\"Band Genre\",\"Band Country of Origin\",\"Concert ID\",\"Inside Venue\",\"Rain\",\n",
        "                                    \"Seated\",\"Concert Goer ID\",\"Concert Goer Country of Origin\"]+filtered+[\"Eng\"]+[\"Continent\"])\n",
        "X_train = preprocess(df_train,df_train,categorical_columns=[\"Band Name\",\"Band Genre\",\"Band Country of Origin\",\"Concert ID\",\"Inside Venue\",\"Rain\",\n",
        "                                    \"Seated\",\"Concert Goer ID\",\"Concert Goer Country of Origin\"]+filtered+[\"Eng\"]+[\"Continent\"])"
      ]
    },
    {
      "cell_type": "code",
      "execution_count": null,
      "metadata": {
        "colab": {
          "background_save": true,
          "base_uri": "https://localhost:8080/"
        },
        "id": "51P7sNCdTtd5",
        "outputId": "dfad7cb7-8556-4440-b28d-d3c59b17e447"
      },
      "outputs": [
        {
          "name": "stdout",
          "output_type": "stream",
          "text": [
            "Fitting 5 folds for each of 3 candidates, totalling 15 fits\n",
            "[CV 1/5; 1/3] START learning_rate=0.1, n_estimators=10000, random_seed=0, subsample=0.8, verbose=0\n",
            "[CV 1/5; 1/3] END learning_rate=0.1, n_estimators=10000, random_seed=0, subsample=0.8, verbose=0;, score=0.701 total time= 5.4min\n",
            "[CV 2/5; 1/3] START learning_rate=0.1, n_estimators=10000, random_seed=0, subsample=0.8, verbose=0\n",
            "[CV 2/5; 1/3] END learning_rate=0.1, n_estimators=10000, random_seed=0, subsample=0.8, verbose=0;, score=0.697 total time= 5.4min\n",
            "[CV 3/5; 1/3] START learning_rate=0.1, n_estimators=10000, random_seed=0, subsample=0.8, verbose=0\n",
            "[CV 3/5; 1/3] END learning_rate=0.1, n_estimators=10000, random_seed=0, subsample=0.8, verbose=0;, score=0.702 total time= 5.3min\n",
            "[CV 4/5; 1/3] START learning_rate=0.1, n_estimators=10000, random_seed=0, subsample=0.8, verbose=0\n",
            "[CV 4/5; 1/3] END learning_rate=0.1, n_estimators=10000, random_seed=0, subsample=0.8, verbose=0;, score=0.698 total time= 5.3min\n",
            "[CV 5/5; 1/3] START learning_rate=0.1, n_estimators=10000, random_seed=0, subsample=0.8, verbose=0\n",
            "[CV 5/5; 1/3] END learning_rate=0.1, n_estimators=10000, random_seed=0, subsample=0.8, verbose=0;, score=0.703 total time= 5.4min\n",
            "[CV 1/5; 2/3] START learning_rate=0.1, n_estimators=11000, random_seed=0, subsample=0.8, verbose=0\n",
            "[CV 1/5; 2/3] END learning_rate=0.1, n_estimators=11000, random_seed=0, subsample=0.8, verbose=0;, score=0.701 total time= 5.9min\n",
            "[CV 2/5; 2/3] START learning_rate=0.1, n_estimators=11000, random_seed=0, subsample=0.8, verbose=0\n",
            "[CV 2/5; 2/3] END learning_rate=0.1, n_estimators=11000, random_seed=0, subsample=0.8, verbose=0;, score=0.696 total time= 5.8min\n",
            "[CV 3/5; 2/3] START learning_rate=0.1, n_estimators=11000, random_seed=0, subsample=0.8, verbose=0\n",
            "[CV 3/5; 2/3] END learning_rate=0.1, n_estimators=11000, random_seed=0, subsample=0.8, verbose=0;, score=0.702 total time= 5.8min\n",
            "[CV 4/5; 2/3] START learning_rate=0.1, n_estimators=11000, random_seed=0, subsample=0.8, verbose=0\n",
            "[CV 4/5; 2/3] END learning_rate=0.1, n_estimators=11000, random_seed=0, subsample=0.8, verbose=0;, score=0.699 total time= 5.9min\n",
            "[CV 5/5; 2/3] START learning_rate=0.1, n_estimators=11000, random_seed=0, subsample=0.8, verbose=0\n",
            "[CV 5/5; 2/3] END learning_rate=0.1, n_estimators=11000, random_seed=0, subsample=0.8, verbose=0;, score=0.703 total time= 6.0min\n",
            "[CV 1/5; 3/3] START learning_rate=0.1, n_estimators=12000, random_seed=0, subsample=0.8, verbose=0\n",
            "[CV 1/5; 3/3] END learning_rate=0.1, n_estimators=12000, random_seed=0, subsample=0.8, verbose=0;, score=0.702 total time= 6.4min\n",
            "[CV 2/5; 3/3] START learning_rate=0.1, n_estimators=12000, random_seed=0, subsample=0.8, verbose=0\n",
            "[CV 2/5; 3/3] END learning_rate=0.1, n_estimators=12000, random_seed=0, subsample=0.8, verbose=0;, score=0.696 total time= 6.5min\n",
            "[CV 3/5; 3/3] START learning_rate=0.1, n_estimators=12000, random_seed=0, subsample=0.8, verbose=0\n",
            "[CV 3/5; 3/3] END learning_rate=0.1, n_estimators=12000, random_seed=0, subsample=0.8, verbose=0;, score=0.701 total time= 6.4min\n",
            "[CV 4/5; 3/3] START learning_rate=0.1, n_estimators=12000, random_seed=0, subsample=0.8, verbose=0\n",
            "[CV 4/5; 3/3] END learning_rate=0.1, n_estimators=12000, random_seed=0, subsample=0.8, verbose=0;, score=0.699 total time= 6.3min\n",
            "[CV 5/5; 3/3] START learning_rate=0.1, n_estimators=12000, random_seed=0, subsample=0.8, verbose=0\n",
            "[CV 5/5; 3/3] END learning_rate=0.1, n_estimators=12000, random_seed=0, subsample=0.8, verbose=0;, score=0.703 total time= 6.3min\n",
            "\n",
            "0.7004 {'learning_rate': 0.1, 'n_estimators': 12000, 'random_seed': 0, 'subsample': 0.8, 'verbose': 0}\n"
          ]
        }
      ],
      "source": [
        "regressor = CustomRegressor()\n",
        "\n",
        "clf = GridSearchCV(regressor,{\"n_estimators\":[10000,11000,12000],\"learning_rate\":[0.1],\"subsample\":[0.8],\"random_seed\":[0],\"verbose\":[0]},verbose=10,scoring='f1_micro')\n",
        "clf.fit(X_train,y_train)\n",
        "\n",
        "print()\n",
        "print(clf.best_score_,clf.best_params_)"
      ]
    },
    {
      "cell_type": "markdown",
      "metadata": {
        "id": "qrqMy3Kfaw5Y"
      },
      "source": [
        "We see that the addition of features didn't improve the results.\n",
        "We could try with different features, or combine with dimensionality reduction or some features dropping.\n",
        "For now, we keep the results from part a) for the test prediction."
      ]
    }
  ],
  "metadata": {
    "colab": {
      "provenance": []
    },
    "kernelspec": {
      "display_name": "Python 3",
      "name": "python3"
    },
    "language_info": {
      "name": "python"
    }
  },
  "nbformat": 4,
  "nbformat_minor": 0
}